{
 "metadata": {
  "name": ""
 },
 "nbformat": 3,
 "nbformat_minor": 0,
 "worksheets": [
  {
   "cells": [
    {
     "cell_type": "markdown",
     "metadata": {},
     "source": [
      "## Notebook preparation\n",
      "\n",
      "This notebook was designed to run the [QIIME Illumina Overview Tutorial](http://qiime.org/tutorials/illumina_overview_tutorial.html) on the QIIME 1.8.0 Amazon Web Services EC2 instance. You can find the AMI ID on the [QIIME resources page](http://qiime.org/home_static/dataFiles.html). These steps covered here are important for having multiple users working on a single IPython Notebook server, but are a little bit of overkill if you're running this on your own AWS instance. If you're running this on your own instance, you should instead work with the IPython Notebook linked from [here](http://qiime.org/tutorials/illumina_overview_tutorial.html#ipython-notebook)."
     ]
    },
    {
     "cell_type": "markdown",
     "metadata": {},
     "source": [
      "## Getting started\n",
      "\n",
      "We'll begin by initializing some variables to configure our IPython computing environment. Don't edit anything in this first cell. "
     ]
    },
    {
     "cell_type": "code",
     "collapsed": false,
     "input": [
      "from random import choice\n",
      "from os import chdir, mkdir, makedirs\n",
      "from os.path import join, exists, abspath\n",
      "from IPython.display import FileLinks, FileLink\n",
      "\n",
      "# to support running in a multi-user environment, each user will work in\n",
      "# a temporary working directory with a randomly generated name\n",
      "basedir = \"temp\"\n",
      "choices = \"ABCDEFGHIJKLMNOPQRSTUVWXYZ\"\n",
      "choices += choices.lower()\n",
      "working_dir = join(basedir,''.join([choice(choices) for i in range(10)]))\n",
      "\n",
      "print \"Your working directory is %s\" % working_dir\n",
      "makedirs(working_dir)\n",
      "chdir(working_dir)"
     ],
     "language": "python",
     "metadata": {},
     "outputs": []
    },
    {
     "cell_type": "markdown",
     "metadata": {},
     "source": [
      "## Running the Illumina Overview Tutorial\n",
      "\n",
      "You can now get started. Follow the steps found in the [Illumina Overview Tutorial](http://nbviewer.ipython.org/github/biocore/qiime/blob/master/examples/ipynb/illumina_overview_tutorial.ipynb). "
     ]
    },
    {
     "cell_type": "code",
     "collapsed": false,
     "input": [
      "!(wget https://s3.amazonaws.com/s3-qiime_tutorial_files/moving_pictures_tutorial-1.9.0.tgz || curl -O https://s3.amazonaws.com/s3-qiime_tutorial_files/moving_pictures_tutorial-1.9.0.tgz)\n",
      "!tar -xzf moving_pictures_tutorial-1.9.0.tgz"
     ],
     "language": "python",
     "metadata": {},
     "outputs": []
    },
    {
     "cell_type": "code",
     "collapsed": false,
     "input": [
      "!(wget ftp://greengenes.microbio.me/greengenes_release/gg_13_5/gg_13_8_otus.tar.gz || curl -O ftp://greengenes.microbio.me/greengenes_release/gg_13_5/gg_13_8_otus.tar.gz)\n",
      "!(wget http://greengenes.lbl.gov/Download/Sequence_Data/lanemask_in_1s_and_0s || curl -O http://greengenes.lbl.gov/Download/Sequence_Data/lanemask_in_1s_and_0s)\n",
      "\n",
      "!tar -xzf gg_13_8_otus.tar.gz"
     ],
     "language": "python",
     "metadata": {},
     "outputs": []
    },
    {
     "cell_type": "code",
     "collapsed": false,
     "input": [
      "BASE_GREENGENES_PATH = './'\n",
      "otu_base = abspath(join(BASE_GREENGENES_PATH, \"gg_13_8_otus/\"))\n",
      "reference_seqs = abspath(join(otu_base,\"rep_set/97_otus.fasta\"))\n",
      "reference_tree = abspath(join(otu_base,\"trees/97_otus.tree\"))\n",
      "reference_tax = abspath(join(otu_base,\"taxonomy/97_otu_taxonomy.txt\"))\n",
      "aligned_core_set = abspath(join(otu_base,\"rep_set_aligned/85_otus.fasta\"))\n",
      "\n",
      "BASE_LANEMASK_PATH = \"./\"\n",
      "lanemask = abspath(join(BASE_LANEMASK_PATH,\"lanemask_in_1s_and_0s \"))\n",
      "\n",
      "if not exists(otu_base):\n",
      "    print \"otu_base does not appear to exist. Please set BASE_GREENGENES_PATH to the parent directory of the OTUs and reexecute this cell.\"\n",
      "else:\n",
      "    !echo assign_taxonomy:reference_seqs_fp $reference_seqs >> moving_pictures_tutorial-1.9.0/uc_fast_params.txt\n",
      "    !echo assign_taxonomy:id_to_taxonomy_fp $reference_tax >> moving_pictures_tutorial-1.9.0/uc_fast_params.txt\n",
      "    !echo align_seqs:template_fp $aligned_core_set >> moving_pictures_tutorial-1.9.0/uc_fast_params.txt\n",
      "    \n",
      "if not exists(BASE_LANEMASK_PATH):\n",
      "    print \"BASE_CORESET_PATH does not appear to exist. Please set BASE_CORESET_PATH to directory containing Greengenes core set files and reexecute this cell.\"\n",
      "else:\n",
      "    !echo filter_alignment:lane_mask_fp $lanemask >> moving_pictures_tutorial-1.9.0/uc_fast_params.txt"
     ],
     "language": "python",
     "metadata": {},
     "outputs": []
    },
    {
     "cell_type": "code",
     "collapsed": false,
     "input": [
      "from functools import partial\n",
      "\n",
      "chdir('moving_pictures_tutorial-1.9.0/illumina')\n",
      "FileLink = partial(FileLink, url_prefix=join(working_dir, 'moving_pictures_tutorial-1.9.0/illumina/'))\n",
      "FileLinks = partial(FileLinks, url_prefix=join(working_dir, 'moving_pictures_tutorial-1.9.0/illumina/'))"
     ],
     "language": "python",
     "metadata": {},
     "outputs": []
    },
    {
     "cell_type": "code",
     "collapsed": false,
     "input": [],
     "language": "python",
     "metadata": {},
     "outputs": []
    }
   ],
   "metadata": {}
  }
 ]
}