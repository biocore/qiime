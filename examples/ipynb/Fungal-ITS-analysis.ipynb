{
 "metadata": {
  "name": "Fungal-ITS-analysis"
 },
 "nbformat": 3,
 "nbformat_minor": 0,
 "worksheets": [
  {
   "cells": [
    {
     "cell_type": "markdown",
     "metadata": {},
     "source": [
      "Fungal ITS QIIME analysis tutorial\n",
      "==================================\n",
      "\n",
      "In this tutorial we illustrate steps for analyzing fungal ITS amplicon data using the QIIME/UNITE reference OTUs (alpha version 12_11; find the link to the latest version of the reference OTUs on the [QIIME resources page](http://qiime.org/home_static/dataFiles.html)) to compare the composition of 9 soil communities using open-reference OTU picking.\n",
      "\n",
      "First we initialize our environment by obtaining the necessary files."
     ]
    },
    {
     "cell_type": "code",
     "collapsed": true,
     "input": [
      "tutorial_url = \"https://s3.amazonaws.com/s3-qiime_tutorial_files/its-soils-tutorial.tgz\"\n",
      "reference_url = \"https://github.com/downloads/qiime/its-reference-otus/its_12_11_otus.tar.gz\"\n",
      "!wget $tutorial_url\n",
      "!wget $reference_url"
     ],
     "language": "python",
     "metadata": {},
     "outputs": []
    },
    {
     "cell_type": "markdown",
     "metadata": {},
     "source": [
      "Now unzip these files."
     ]
    },
    {
     "cell_type": "code",
     "collapsed": false,
     "input": [
      "!tar -xzf its-soils-tutorial.tgz\n",
      "!tar -xzf its_12_11_otus.tar.gz\n",
      "!gunzip ./its_12_11_otus/rep_set/97_otus.fasta.gz\n",
      "!gunzip ./its_12_11_otus/taxonomy/97_otu_taxonomy.txt.gz"
     ],
     "language": "python",
     "metadata": {},
     "outputs": []
    },
    {
     "cell_type": "markdown",
     "metadata": {},
     "source": [
      "You can then view the files in each of these direcories by passing the directory name to the ``FileLinks`` function."
     ]
    },
    {
     "cell_type": "code",
     "collapsed": false,
     "input": [
      "from IPython.display import FileLink, FileLinks\n",
      "FileLinks('its-soils-tutorial')"
     ],
     "language": "python",
     "metadata": {},
     "outputs": []
    },
    {
     "cell_type": "markdown",
     "metadata": {},
     "source": [
      "The ``params.txt`` file contains many of the details of this analysis. You can review those by clicking the link or by catting the file. "
     ]
    },
    {
     "cell_type": "code",
     "collapsed": false,
     "input": [
      "!cat its-soils-tutorial/params.txt"
     ],
     "language": "python",
     "metadata": {},
     "outputs": []
    },
    {
     "cell_type": "markdown",
     "metadata": {},
     "source": [
      "The paramters that differentiate ITS analysis from analysis of other amplicons are the two ``assign_taxonomy`` parameters, which are pointing to the reference collection that we just downloaded, and the ``beta_diversity`` parameter, where we specify to compare communities using the non-phylogenetic Bray-Curtis metric, which we use here because we don't currently have a phylogenetic tree relating these OTUs."
     ]
    },
    {
     "cell_type": "markdown",
     "metadata": {},
     "source": [
      "Set up paths for the analysis steps."
     ]
    },
    {
     "cell_type": "code",
     "collapsed": false,
     "input": [
      "input_seqs_fp = \"its-soils-tutorial/seqs.fna\"\n",
      "reference_seqs_fp = \"its_12_11_otus/rep_set/97_otus.fasta\"\n",
      "output_dir = \"ucrss_fast/\"\n",
      "parameters_fp = \"its-soils-tutorial/params.txt\"\n",
      "mapping_fp = \"its-soils-tutorial/map.txt\""
     ],
     "language": "python",
     "metadata": {},
     "outputs": []
    },
    {
     "cell_type": "markdown",
     "metadata": {},
     "source": [
      "We're now ready to run the ``pick_open_reference_otus.py`` workflow. You can find [a description of this process here](http://qiime.org/tutorials/open_reference_illumina_processing.html#option-2-subsampled-open-reference-otu-picking)."
     ]
    },
    {
     "cell_type": "code",
     "collapsed": false,
     "input": [
      "!pick_open_reference_otus.py -i $input_seqs_fp -r $reference_seqs_fp -o $output_dir -p $parameters_fp --suppress_align_and_tree"
     ],
     "language": "python",
     "metadata": {},
     "outputs": []
    },
    {
     "cell_type": "markdown",
     "metadata": {},
     "source": [
      "After that completes (it will take a few minutes) we'll have the OTU table with taxonomy. You can review all of the files that are created by passing the path to the output directory to the ``FileLinks`` function."
     ]
    },
    {
     "cell_type": "code",
     "collapsed": false,
     "input": [
      "FileLinks(\"ucrss_fast/\")"
     ],
     "language": "python",
     "metadata": {},
     "outputs": []
    },
    {
     "cell_type": "markdown",
     "metadata": {},
     "source": [
      "You can then pass the OTU table to ``biom summarize-table`` to view a summary of the information in the OTU table."
     ]
    },
    {
     "cell_type": "code",
     "collapsed": false,
     "input": [
      "otu_table_fp = \"ucrss_fast/otu_table_mc2_w_tax.biom\"\n",
      "summary_fp = \"ucrss_fast/otu_table_mc2_w_tax_summary.txt\"\n",
      "!biom summarize-table -i $otu_table_fp -o $summary_fp"
     ],
     "language": "python",
     "metadata": {},
     "outputs": []
    },
    {
     "cell_type": "markdown",
     "metadata": {},
     "source": [
      "To view a single file (in this case, the output table summary that we created above), use ``FileLink``."
     ]
    },
    {
     "cell_type": "code",
     "collapsed": false,
     "input": [
      "FileLink(summary_fp)"
     ],
     "language": "python",
     "metadata": {},
     "outputs": []
    },
    {
     "cell_type": "markdown",
     "metadata": {},
     "source": [
      "Next we'll run a few representative analyses on the OTU table. First we'll compute beta diveristy and generated PCoA plots, and then we'll generate taxonomic summaries of the samples. Note that for the beta diversity analysis we choose an even sampling depth of ``287`` based on the results of ``biom summarize-table``."
     ]
    },
    {
     "cell_type": "code",
     "collapsed": false,
     "input": [
      "bdiv_output_dir = \"ucrss_fast/bdiv_even287/\"\n",
      "!beta_diversity_through_plots.py -i $otu_table_fp -o $bdiv_output_dir -e 287 -p $parameters_fp -m $mapping_fp"
     ],
     "language": "python",
     "metadata": {},
     "outputs": []
    },
    {
     "cell_type": "code",
     "collapsed": false,
     "input": [
      "FileLinks(\"ucrss_fast/bdiv_even287/\")"
     ],
     "language": "python",
     "metadata": {},
     "outputs": []
    },
    {
     "cell_type": "markdown",
     "metadata": {},
     "source": [
      "The primary files of interested here are the 2d and 3d PCoA plots. You can view those by clicking the corresponding links."
     ]
    },
    {
     "cell_type": "code",
     "collapsed": false,
     "input": [
      "taxa_output_dir = 'ucrss_fast/taxa_plots/'\n",
      "!summarize_taxa_through_plots.py -i $otu_table_fp -o $taxa_output_dir"
     ],
     "language": "python",
     "metadata": {},
     "outputs": []
    },
    {
     "cell_type": "code",
     "collapsed": false,
     "input": [
      "FileLinks('ucrss_fast/taxa_plots/')"
     ],
     "language": "python",
     "metadata": {},
     "outputs": []
    },
    {
     "cell_type": "markdown",
     "metadata": {},
     "source": [
      "Here the most interesting file is the ``bar_charts.html``. Click that to open it in a new browser window/tab."
     ]
    }
   ],
   "metadata": {}
  }
 ]
}