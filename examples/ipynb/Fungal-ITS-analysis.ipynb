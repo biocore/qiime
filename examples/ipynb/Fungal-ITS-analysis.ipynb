{
 "metadata": {
  "name": "Fungal-ITS-analysis"
 },
 "nbformat": 3,
 "nbformat_minor": 0,
 "worksheets": [
  {
   "cells": [
    {
     "cell_type": "markdown",
     "metadata": {},
     "source": [
      "Fungal ITS QIIME analysis tutorial\n",
      "==================================\n",
      "\n",
      "In this tutorial we illustrate steps for analyzing fungal ITS amplicon data using the QIIME/UNITE reference OTUs (alpha version 12_11; find the link to the latest version of the reference OTUs on the [QIIME resources page](http://qiime.org/home_static/dataFiles.html)) to compare the composition of 9 soil communities using open-reference OTU picking.\n",
      "\n",
      "First we initialize our environment by obtaining the necessary files."
     ]
    },
    {
     "cell_type": "code",
     "collapsed": true,
     "input": [
      "tutorial_url = \"https://s3.amazonaws.com/s3-qiime_tutorial_files/its-soils-tutorial.tgz\"\n",
      "reference_url = \"https://github.com/downloads/qiime/its-reference-otus/its_12_11_otus.tar.gz\"\n",
      "!wget $tutorial_url\n",
      "!wget $reference_url"
     ],
     "language": "python",
     "metadata": {},
     "outputs": [
      {
       "output_type": "stream",
       "stream": "stdout",
       "text": [
        "--2012-12-17 08:55:29--  https://s3.amazonaws.com/s3-qiime_tutorial_files/its-soils-tutorial.tgz\r\n",
        "Resolving s3.amazonaws.com... "
       ]
      },
      {
       "output_type": "stream",
       "stream": "stdout",
       "text": [
        "72.21.195.160\r\n",
        "Connecting to s3.amazonaws.com|72.21.195.160|:443... "
       ]
      },
      {
       "output_type": "stream",
       "stream": "stdout",
       "text": [
        "connected.\r\n"
       ]
      },
      {
       "output_type": "stream",
       "stream": "stdout",
       "text": [
        "HTTP request sent, awaiting response... "
       ]
      },
      {
       "output_type": "stream",
       "stream": "stdout",
       "text": [
        "200 OK\r\n",
        "Length: 543458 (531K) [application/x-compressed]\r\n",
        "Saving to: \u2018its-soils-tutorial.tgz\u2019\r\n",
        "\r\n",
        "\r",
        " 0% [                                       ] 0           --.-K/s              "
       ]
      },
      {
       "output_type": "stream",
       "stream": "stdout",
       "text": [
        "\r",
        " 7% [=>                                     ] 41,140       165KB/s             "
       ]
      },
      {
       "output_type": "stream",
       "stream": "stdout",
       "text": [
        "\r",
        "27% [=========>                             ] 147,391      297KB/s             "
       ]
      },
      {
       "output_type": "stream",
       "stream": "stdout",
       "text": [
        "\r",
        "50% [==================>                    ] 276,889      379KB/s             "
       ]
      },
      {
       "output_type": "stream",
       "stream": "stdout",
       "text": [
        "\r",
        "75% [============================>          ] 411,889      425KB/s             "
       ]
      },
      {
       "output_type": "stream",
       "stream": "stdout",
       "text": [
        "\r",
        "100%[======================================>] 543,458      464KB/s   in 1.1s   \r\n",
        "\r\n",
        "2012-12-17 08:55:31 (464 KB/s) - \u2018its-soils-tutorial.tgz\u2019 saved [543458/543458]\r\n",
        "\r\n"
       ]
      },
      {
       "output_type": "stream",
       "stream": "stdout",
       "text": [
        "--2012-12-17 08:55:31--  https://github.com/downloads/qiime/its-reference-otus/its_12_11_otus.tar.gz\r\n",
        "Resolving github.com... "
       ]
      },
      {
       "output_type": "stream",
       "stream": "stdout",
       "text": [
        "207.97.227.239\r\n",
        "Connecting to github.com|207.97.227.239|:443... "
       ]
      },
      {
       "output_type": "stream",
       "stream": "stdout",
       "text": [
        "connected.\r\n"
       ]
      },
      {
       "output_type": "stream",
       "stream": "stdout",
       "text": [
        "HTTP request sent, awaiting response... "
       ]
      },
      {
       "output_type": "stream",
       "stream": "stdout",
       "text": [
        "302 Found\r\n",
        "Location: http://cloud.github.com/downloads/qiime/its-reference-otus/its_12_11_otus.tar.gz [following]\r\n",
        "--2012-12-17 08:55:33--  http://cloud.github.com/downloads/qiime/its-reference-otus/its_12_11_otus.tar.gz\r\n",
        "Resolving cloud.github.com... "
       ]
      },
      {
       "output_type": "stream",
       "stream": "stdout",
       "text": [
        "216.137.39.211, 216.137.39.177, 216.137.39.147, ...\r\n",
        "Connecting to cloud.github.com|216.137.39.211|:80... "
       ]
      },
      {
       "output_type": "stream",
       "stream": "stdout",
       "text": [
        "connected.\r\n",
        "HTTP request sent, awaiting response... "
       ]
      },
      {
       "output_type": "stream",
       "stream": "stdout",
       "text": [
        "200 OK\r\n",
        "Length: 24441994 (23M) [application/gzip]\r\n",
        "Saving to: \u2018its_12_11_otus.tar.gz\u2019\r\n",
        "\r\n",
        "\r",
        " 0% [                                       ] 0           --.-K/s              "
       ]
      },
      {
       "output_type": "stream",
       "stream": "stdout",
       "text": [
        "\r",
        " 0% [                                       ] 25,484       121KB/s             "
       ]
      },
      {
       "output_type": "stream",
       "stream": "stdout",
       "text": [
        "\r",
        " 0% [                                       ] 74,604       179KB/s             "
       ]
      },
      {
       "output_type": "stream",
       "stream": "stdout",
       "text": [
        "\r",
        " 0% [                                       ] 212,140      334KB/s             "
       ]
      },
      {
       "output_type": "stream",
       "stream": "stdout",
       "text": [
        "\r",
        " 1% [                                       ] 457,740      543KB/s             "
       ]
      },
      {
       "output_type": "stream",
       "stream": "stdout",
       "text": [
        "\r",
        " 2% [>                                      ] 673,868      643KB/s             "
       ]
      },
      {
       "output_type": "stream",
       "stream": "stdout",
       "text": [
        "\r",
        " 3% [>                                      ] 896,136      715KB/s             "
       ]
      },
      {
       "output_type": "stream",
       "stream": "stdout",
       "text": [
        "\r",
        " 4% [>                                      ] 1,130,684    776KB/s             "
       ]
      },
      {
       "output_type": "stream",
       "stream": "stdout",
       "text": [
        "\r",
        " 5% [=>                                     ] 1,330,444    774KB/s             "
       ]
      },
      {
       "output_type": "stream",
       "stream": "stdout",
       "text": [
        "\r",
        " 6% [=>                                     ] 1,548,204    796KB/s             "
       ]
      },
      {
       "output_type": "stream",
       "stream": "stdout",
       "text": [
        "\r",
        " 6% [=>                                     ] 1,615,744    746KB/s             "
       ]
      },
      {
       "output_type": "stream",
       "stream": "stdout",
       "text": [
        "\r",
        " 6% [=>                                     ] 1,682,056    707KB/s             "
       ]
      },
      {
       "output_type": "stream",
       "stream": "stdout",
       "text": [
        "\r",
        " 7% [=>                                     ] 1,749,596    673KB/s             "
       ]
      },
      {
       "output_type": "stream",
       "stream": "stdout",
       "text": [
        "\r",
        " 7% [=>                                     ] 1,813,452    645KB/s             "
       ]
      },
      {
       "output_type": "stream",
       "stream": "stdout",
       "text": [
        "\r",
        " 7% [=>                                     ] 1,879,764    622KB/s             "
       ]
      },
      {
       "output_type": "stream",
       "stream": "stdout",
       "text": [
        "\r",
        " 8% [==>                                    ] 1,964,496    606KB/s  eta 36s    "
       ]
      },
      {
       "output_type": "stream",
       "stream": "stdout",
       "text": [
        "\r",
        " 8% [==>                                    ] 2,060,280    592KB/s  eta 36s    "
       ]
      },
      {
       "output_type": "stream",
       "stream": "stdout",
       "text": [
        "\r",
        " 8% [==>                                    ] 2,145,012    578KB/s  eta 36s    "
       ]
      },
      {
       "output_type": "stream",
       "stream": "stdout",
       "text": [
        "\r",
        " 9% [==>                                    ] 2,237,112    569KB/s  eta 36s    "
       ]
      },
      {
       "output_type": "stream",
       "stream": "stdout",
       "text": [
        "\r",
        " 9% [==>                                    ] 2,327,984    584KB/s  eta 36s    "
       ]
      },
      {
       "output_type": "stream",
       "stream": "stdout",
       "text": [
        "\r",
        " 9% [==>                                    ] 2,411,488    591KB/s  eta 39s    "
       ]
      },
      {
       "output_type": "stream",
       "stream": "stdout",
       "text": [
        "\r",
        "10% [==>                                    ] 2,497,448    578KB/s  eta 39s    "
       ]
      },
      {
       "output_type": "stream",
       "stream": "stdout",
       "text": [
        "\r",
        "10% [===>                                   ] 2,588,320    547KB/s  eta 39s    "
       ]
      },
      {
       "output_type": "stream",
       "stream": "stdout",
       "text": [
        "\r",
        "10% [===>                                   ] 2,670,596    499KB/s  eta 39s    "
       ]
      },
      {
       "output_type": "stream",
       "stream": "stdout",
       "text": [
        "\r",
        "11% [===>                                   ] 2,750,416    458KB/s  eta 39s    "
       ]
      },
      {
       "output_type": "stream",
       "stream": "stdout",
       "text": [
        "\r",
        "11% [===>                                   ] 2,842,516    428KB/s  eta 41s    "
       ]
      },
      {
       "output_type": "stream",
       "stream": "stdout",
       "text": [
        "\r",
        "11% [===>                                   ] 2,929,704    404KB/s  eta 41s    "
       ]
      },
      {
       "output_type": "stream",
       "stream": "stdout",
       "text": [
        "\r",
        "12% [===>                                   ] 3,015,664    375KB/s  eta 41s    "
       ]
      },
      {
       "output_type": "stream",
       "stream": "stdout",
       "text": [
        "\r",
        "12% [===>                                   ] 3,102,852    381KB/s  eta 41s    "
       ]
      },
      {
       "output_type": "stream",
       "stream": "stdout",
       "text": [
        "\r",
        "13% [====>                                  ] 3,190,040    387KB/s  eta 41s    "
       ]
      },
      {
       "output_type": "stream",
       "stream": "stdout",
       "text": [
        "\r",
        "13% [====>                                  ] 3,298,104    399KB/s  eta 41s    "
       ]
      },
      {
       "output_type": "stream",
       "stream": "stdout",
       "text": [
        "\r",
        "13% [====>                                  ] 3,396,344    407KB/s  eta 41s    "
       ]
      },
      {
       "output_type": "stream",
       "stream": "stdout",
       "text": [
        "\r",
        "14% [====>                                  ] 3,473,708    401KB/s  eta 41s    "
       ]
      },
      {
       "output_type": "stream",
       "stream": "stdout",
       "text": [
        "\r",
        "14% [====>                                  ] 3,565,808    410KB/s  eta 41s    "
       ]
      },
      {
       "output_type": "stream",
       "stream": "stdout",
       "text": [
        "\r",
        "14% [====>                                  ] 3,657,908    403KB/s  eta 41s    "
       ]
      },
      {
       "output_type": "stream",
       "stream": "stdout",
       "text": [
        "\r",
        "15% [=====>                                 ] 3,763,516    412KB/s  eta 41s    "
       ]
      },
      {
       "output_type": "stream",
       "stream": "stdout",
       "text": [
        "\r",
        "15% [=====>                                 ] 3,864,212    417KB/s  eta 41s    "
       ]
      },
      {
       "output_type": "stream",
       "stream": "stdout",
       "text": [
        "\r",
        "16% [=====>                                 ] 3,969,820    418KB/s  eta 41s    "
       ]
      },
      {
       "output_type": "stream",
       "stream": "stdout",
       "text": [
        "\r",
        "16% [=====>                                 ] 4,060,692    425KB/s  eta 41s    "
       ]
      },
      {
       "output_type": "stream",
       "stream": "stdout",
       "text": [
        "\r",
        "16% [=====>                                 ] 4,144,196    422KB/s  eta 41s    "
       ]
      },
      {
       "output_type": "stream",
       "stream": "stdout",
       "text": [
        "\r",
        "17% [=====>                                 ] 4,233,840    427KB/s  eta 40s    "
       ]
      },
      {
       "output_type": "stream",
       "stream": "stdout",
       "text": [
        "\r",
        "17% [=====>                                 ] 4,309,976    423KB/s  eta 40s    "
       ]
      },
      {
       "output_type": "stream",
       "stream": "stdout",
       "text": [
        "\r",
        "17% [=====>                                 ] 4,384,884    425KB/s  eta 40s    "
       ]
      },
      {
       "output_type": "stream",
       "stream": "stdout",
       "text": [
        "\r",
        "18% [======>                                ] 4,476,984    423KB/s  eta 40s    "
       ]
      },
      {
       "output_type": "stream",
       "stream": "stdout",
       "text": [
        "\r",
        "18% [======>                                ] 4,570,312    428KB/s  eta 40s    "
       ]
      },
      {
       "output_type": "stream",
       "stream": "stdout",
       "text": [
        "\r",
        "19% [======>                                ] 4,669,780    431KB/s  eta 40s    "
       ]
      },
      {
       "output_type": "stream",
       "stream": "stdout",
       "text": [
        "\r",
        "19% [======>                                ] 4,764,336    433KB/s  eta 40s    "
       ]
      },
      {
       "output_type": "stream",
       "stream": "stdout",
       "text": [
        "\r",
        "19% [======>                                ] 4,850,296    427KB/s  eta 40s    "
       ]
      },
      {
       "output_type": "stream",
       "stream": "stdout",
       "text": [
        "\r",
        "20% [======>                                ] 4,960,816    433KB/s  eta 40s    "
       ]
      },
      {
       "output_type": "stream",
       "stream": "stdout",
       "text": [
        "\r",
        "20% [=======>                               ] 5,066,424    436KB/s  eta 40s    "
       ]
      },
      {
       "output_type": "stream",
       "stream": "stdout",
       "text": [
        "\r",
        "21% [=======>                               ] 5,191,680    445KB/s  eta 39s    "
       ]
      },
      {
       "output_type": "stream",
       "stream": "stdout",
       "text": [
        "\r",
        "21% [=======>                               ] 5,296,060    449KB/s  eta 39s    "
       ]
      },
      {
       "output_type": "stream",
       "stream": "stdout",
       "text": [
        "\r",
        "22% [=======>                               ] 5,415,176    455KB/s  eta 39s    "
       ]
      },
      {
       "output_type": "stream",
       "stream": "stdout",
       "text": [
        "\r",
        "22% [=======>                               ] 5,522,012    452KB/s  eta 39s    "
       ]
      },
      {
       "output_type": "stream",
       "stream": "stdout",
       "text": [
        "\r",
        "23% [========>                              ] 5,653,408    460KB/s  eta 39s    "
       ]
      },
      {
       "output_type": "stream",
       "stream": "stdout",
       "text": [
        "\r",
        "23% [========>                              ] 5,781,120    471KB/s  eta 38s    "
       ]
      },
      {
       "output_type": "stream",
       "stream": "stdout",
       "text": [
        "\r",
        "24% [========>                              ] 5,905,148    478KB/s  eta 38s    "
       ]
      },
      {
       "output_type": "stream",
       "stream": "stdout",
       "text": [
        "\r",
        "24% [========>                              ] 6,003,388    477KB/s  eta 38s    "
       ]
      },
      {
       "output_type": "stream",
       "stream": "stdout",
       "text": [
        "\r",
        "24% [========>                              ] 6,101,628    479KB/s  eta 38s    "
       ]
      },
      {
       "output_type": "stream",
       "stream": "stdout",
       "text": [
        "\r",
        "25% [========>                              ] 6,230,568    488KB/s  eta 38s    "
       ]
      },
      {
       "output_type": "stream",
       "stream": "stdout",
       "text": [
        "\r",
        "26% [=========>                             ] 6,360,736    490KB/s  eta 36s    "
       ]
      },
      {
       "output_type": "stream",
       "stream": "stdout",
       "text": [
        "\r",
        "26% [=========>                             ] 6,467,572    499KB/s  eta 36s    "
       ]
      },
      {
       "output_type": "stream",
       "stream": "stdout",
       "text": [
        "\r",
        "26% [=========>                             ] 6,595,284    506KB/s  eta 36s    "
       ]
      },
      {
       "output_type": "stream",
       "stream": "stdout",
       "text": [
        "\r",
        "27% [=========>                             ] 6,695,980    509KB/s  eta 36s    "
       ]
      },
      {
       "output_type": "stream",
       "stream": "stdout",
       "text": [
        "\r",
        "27% [=========>                             ] 6,817,552    513KB/s  eta 36s    "
       ]
      },
      {
       "output_type": "stream",
       "stream": "stdout",
       "text": [
        "\r",
        "28% [==========>                            ] 6,920,704    515KB/s  eta 35s    "
       ]
      },
      {
       "output_type": "stream",
       "stream": "stdout",
       "text": [
        "\r",
        "28% [==========>                            ] 7,041,048    524KB/s  eta 35s    "
       ]
      },
      {
       "output_type": "stream",
       "stream": "stdout",
       "text": [
        "\r",
        "29% [==========>                            ] 7,173,672    526KB/s  eta 35s    "
       ]
      },
      {
       "output_type": "stream",
       "stream": "stdout",
       "text": [
        "\r",
        "29% [==========>                            ] 7,301,384    531KB/s  eta 35s    "
       ]
      },
      {
       "output_type": "stream",
       "stream": "stdout",
       "text": [
        "\r",
        "30% [==========>                            ] 7,370,152    494KB/s  eta 34s    "
       ]
      },
      {
       "output_type": "stream",
       "stream": "stdout",
       "text": [
        "\r",
        "30% [==========>                            ] 7,485,584    498KB/s  eta 34s    "
       ]
      },
      {
       "output_type": "stream",
       "stream": "stdout",
       "text": [
        "\r",
        "31% [===========>                           ] 7,583,824    493KB/s  eta 34s    "
       ]
      },
      {
       "output_type": "stream",
       "stream": "stdout",
       "text": [
        "\r",
        "31% [===========>                           ] 7,677,152    491KB/s  eta 34s    "
       ]
      },
      {
       "output_type": "stream",
       "stream": "stdout",
       "text": [
        "\r",
        "31% [===========>                           ] 7,764,340    480KB/s  eta 34s    "
       ]
      },
      {
       "output_type": "stream",
       "stream": "stdout",
       "text": [
        "\r",
        "32% [===========>                           ] 7,853,984    478KB/s  eta 34s    "
       ]
      },
      {
       "output_type": "stream",
       "stream": "stdout",
       "text": [
        "\r",
        "32% [===========>                           ] 7,939,944    465KB/s  eta 34s    "
       ]
      },
      {
       "output_type": "stream",
       "stream": "stdout",
       "text": [
        "\r",
        "32% [===========>                           ] 8,029,588    469KB/s  eta 34s    "
       ]
      },
      {
       "output_type": "stream",
       "stream": "stdout",
       "text": [
        "\r",
        "33% [===========>                           ] 8,115,548    464KB/s  eta 34s    "
       ]
      },
      {
       "output_type": "stream",
       "stream": "stdout",
       "text": [
        "\r",
        "33% [============>                          ] 8,215,016    461KB/s  eta 34s    "
       ]
      },
      {
       "output_type": "stream",
       "stream": "stdout",
       "text": [
        "\r",
        "33% [============>                          ] 8,289,924    450KB/s  eta 33s    "
       ]
      },
      {
       "output_type": "stream",
       "stream": "stdout",
       "text": [
        "\r",
        "34% [============>                          ] 8,382,024    443KB/s  eta 33s    "
       ]
      },
      {
       "output_type": "stream",
       "stream": "stdout",
       "text": [
        "\r",
        "34% [============>                          ] 8,485,176    444KB/s  eta 33s    "
       ]
      },
      {
       "output_type": "stream",
       "stream": "stdout",
       "text": [
        "\r",
        "35% [============>                          ] 8,578,504    438KB/s  eta 33s    "
       ]
      },
      {
       "output_type": "stream",
       "stream": "stdout",
       "text": [
        "\r",
        "35% [============>                          ] 8,680,428    437KB/s  eta 33s    "
       ]
      },
      {
       "output_type": "stream",
       "stream": "stdout",
       "text": [
        "\r",
        "35% [=============>                         ] 8,774,984    436KB/s  eta 32s    "
       ]
      },
      {
       "output_type": "stream",
       "stream": "stdout",
       "text": [
        "\r",
        "36% [=============>                         ] 8,903,924    437KB/s  eta 32s    "
       ]
      },
      {
       "output_type": "stream",
       "stream": "stdout",
       "text": [
        "\r",
        "36% [=============>                         ] 9,027,952    424KB/s  eta 32s    "
       ]
      },
      {
       "output_type": "stream",
       "stream": "stdout",
       "text": [
        "\r",
        "37% [=============>                         ] 9,123,736    413KB/s  eta 32s    "
       ]
      },
      {
       "output_type": "stream",
       "stream": "stdout",
       "text": [
        "\r",
        "37% [=============>                         ] 9,231,800    453KB/s  eta 32s    "
       ]
      },
      {
       "output_type": "stream",
       "stream": "stdout",
       "text": [
        "\r",
        "38% [=============>                         ] 9,331,268    458KB/s  eta 31s    "
       ]
      },
      {
       "output_type": "stream",
       "stream": "stdout",
       "text": [
        "\r",
        "38% [==============>                        ] 9,450,384    452KB/s  eta 31s    "
       ]
      },
      {
       "output_type": "stream",
       "stream": "stdout",
       "text": [
        "\r",
        "39% [==============>                        ] 9,557,220    459KB/s  eta 31s    "
       ]
      },
      {
       "output_type": "stream",
       "stream": "stdout",
       "text": [
        "\r",
        "39% [==============>                        ] 9,683,704    464KB/s  eta 31s    "
       ]
      },
      {
       "output_type": "stream",
       "stream": "stdout",
       "text": [
        "\r",
        "40% [==============>                        ] 9,811,416    473KB/s  eta 31s    "
       ]
      },
      {
       "output_type": "stream",
       "stream": "stdout",
       "text": [
        "\r",
        "40% [==============>                        ] 9,917,024    478KB/s  eta 30s    "
       ]
      },
      {
       "output_type": "stream",
       "stream": "stdout",
       "text": [
        "\r",
        "41% [===============>                       ] 10,042,280   486KB/s  eta 30s    "
       ]
      },
      {
       "output_type": "stream",
       "stream": "stdout",
       "text": [
        "\r",
        "41% [===============>                       ] 10,168,764   496KB/s  eta 30s    "
       ]
      },
      {
       "output_type": "stream",
       "stream": "stdout",
       "text": [
        "\r",
        "42% [===============>                       ] 10,296,476   503KB/s  eta 30s    "
       ]
      },
      {
       "output_type": "stream",
       "stream": "stdout",
       "text": [
        "\r",
        "42% [===============>                       ] 10,427,872   512KB/s  eta 30s    "
       ]
      },
      {
       "output_type": "stream",
       "stream": "stdout",
       "text": [
        "\r",
        "43% [===============>                       ] 10,528,568   512KB/s  eta 28s    "
       ]
      },
      {
       "output_type": "stream",
       "stream": "stdout",
       "text": [
        "\r",
        "43% [================>                      ] 10,658,736   519KB/s  eta 28s    "
       ]
      },
      {
       "output_type": "stream",
       "stream": "stdout",
       "text": [
        "\r",
        "44% [================>                      ] 10,790,132   524KB/s  eta 28s    "
       ]
      },
      {
       "output_type": "stream",
       "stream": "stdout",
       "text": [
        "\r",
        "44% [================>                      ] 10,920,300   532KB/s  eta 28s    "
       ]
      },
      {
       "output_type": "stream",
       "stream": "stdout",
       "text": [
        "\r",
        "45% [================>                      ] 11,051,696   538KB/s  eta 28s    "
       ]
      },
      {
       "output_type": "stream",
       "stream": "stdout",
       "text": [
        "\r",
        "45% [================>                      ] 11,181,864   534KB/s  eta 26s    "
       ]
      },
      {
       "output_type": "stream",
       "stream": "stdout",
       "text": [
        "\r",
        "46% [=================>                     ] 11,314,488   545KB/s  eta 26s    "
       ]
      },
      {
       "output_type": "stream",
       "stream": "stdout",
       "text": [
        "\r",
        "46% [=================>                     ] 11,442,200   552KB/s  eta 26s    "
       ]
      },
      {
       "output_type": "stream",
       "stream": "stdout",
       "text": [
        "\r",
        "47% [=================>                     ] 11,569,912   556KB/s  eta 26s    "
       ]
      },
      {
       "output_type": "stream",
       "stream": "stdout",
       "text": [
        "\r",
        "47% [=================>                     ] 11,703,764   564KB/s  eta 26s    "
       ]
      },
      {
       "output_type": "stream",
       "stream": "stdout",
       "text": [
        "\r",
        "48% [=================>                     ] 11,837,616   569KB/s  eta 25s    "
       ]
      },
      {
       "output_type": "stream",
       "stream": "stdout",
       "text": [
        "\r",
        "48% [==================>                    ] 11,962,872   567KB/s  eta 25s    "
       ]
      },
      {
       "output_type": "stream",
       "stream": "stdout",
       "text": [
        "\r",
        "49% [==================>                    ] 12,093,040   573KB/s  eta 25s    "
       ]
      },
      {
       "output_type": "stream",
       "stream": "stdout",
       "text": [
        "\r",
        "49% [==================>                    ] 12,214,612   580KB/s  eta 25s    "
       ]
      },
      {
       "output_type": "stream",
       "stream": "stdout",
       "text": [
        "\r",
        "50% [==================>                    ] 12,325,132   578KB/s  eta 25s    "
       ]
      },
      {
       "output_type": "stream",
       "stream": "stdout",
       "text": [
        "\r",
        "50% [==================>                    ] 12,450,388   578KB/s  eta 24s    "
       ]
      },
      {
       "output_type": "stream",
       "stream": "stdout",
       "text": [
        "\r",
        "51% [===================>                   ] 12,576,872   579KB/s  eta 24s    "
       ]
      },
      {
       "output_type": "stream",
       "stream": "stdout",
       "text": [
        "\r",
        "52% [===================>                   ] 12,713,180   580KB/s  eta 24s    "
       ]
      },
      {
       "output_type": "stream",
       "stream": "stdout",
       "text": [
        "\r",
        "52% [===================>                   ] 12,840,892   586KB/s  eta 24s    "
       ]
      },
      {
       "output_type": "stream",
       "stream": "stdout",
       "text": [
        "\r",
        "53% [===================>                   ] 12,972,288   584KB/s  eta 24s    "
       ]
      },
      {
       "output_type": "stream",
       "stream": "stdout",
       "text": [
        "\r",
        "53% [===================>                   ] 13,098,772   583KB/s  eta 22s    "
       ]
      },
      {
       "output_type": "stream",
       "stream": "stdout",
       "text": [
        "\r",
        "54% [====================>                  ] 13,227,712   581KB/s  eta 22s    "
       ]
      },
      {
       "output_type": "stream",
       "stream": "stdout",
       "text": [
        "\r",
        "54% [====================>                  ] 13,357,880   582KB/s  eta 22s    "
       ]
      },
      {
       "output_type": "stream",
       "stream": "stdout",
       "text": [
        "\r",
        "55% [====================>                  ] 13,491,732   582KB/s  eta 22s    "
       ]
      },
      {
       "output_type": "stream",
       "stream": "stdout",
       "text": [
        "\r",
        "55% [====================>                  ] 13,621,900   585KB/s  eta 22s    "
       ]
      },
      {
       "output_type": "stream",
       "stream": "stdout",
       "text": [
        "\r",
        "56% [====================>                  ] 13,747,156   583KB/s  eta 21s    "
       ]
      },
      {
       "output_type": "stream",
       "stream": "stdout",
       "text": [
        "\r",
        "56% [=====================>                 ] 13,884,692   585KB/s  eta 21s    "
       ]
      },
      {
       "output_type": "stream",
       "stream": "stdout",
       "text": [
        "\r",
        "57% [=====================>                 ] 14,016,088   584KB/s  eta 21s    "
       ]
      },
      {
       "output_type": "stream",
       "stream": "stdout",
       "text": [
        "\r",
        "57% [=====================>                 ] 14,147,484   578KB/s  eta 21s    "
       ]
      },
      {
       "output_type": "stream",
       "stream": "stdout",
       "text": [
        "\r",
        "58% [=====================>                 ] 14,277,652   581KB/s  eta 21s    "
       ]
      },
      {
       "output_type": "stream",
       "stream": "stdout",
       "text": [
        "\r",
        "58% [=====================>                 ] 14,407,820   576KB/s  eta 19s    "
       ]
      },
      {
       "output_type": "stream",
       "stream": "stdout",
       "text": [
        "\r",
        "59% [======================>                ] 14,530,620   583KB/s  eta 19s    "
       ]
      },
      {
       "output_type": "stream",
       "stream": "stdout",
       "text": [
        "\r",
        "59% [======================>                ] 14,664,472   581KB/s  eta 19s    "
       ]
      },
      {
       "output_type": "stream",
       "stream": "stdout",
       "text": [
        "\r",
        "60% [======================>                ] 14,798,324   583KB/s  eta 19s    "
       ]
      },
      {
       "output_type": "stream",
       "stream": "stdout",
       "text": [
        "\r",
        "61% [======================>                ] 14,921,124   582KB/s  eta 19s    "
       ]
      },
      {
       "output_type": "stream",
       "stream": "stdout",
       "text": [
        "\r",
        "61% [=======================>               ] 15,052,520   582KB/s  eta 18s    "
       ]
      },
      {
       "output_type": "stream",
       "stream": "stdout",
       "text": [
        "\r",
        "62% [=======================>               ] 15,182,688   582KB/s  eta 18s    "
       ]
      },
      {
       "output_type": "stream",
       "stream": "stdout",
       "text": [
        "\r",
        "62% [=======================>               ] 15,318,996   589KB/s  eta 18s    "
       ]
      },
      {
       "output_type": "stream",
       "stream": "stdout",
       "text": [
        "\r",
        "63% [=======================>               ] 15,444,252   589KB/s  eta 18s    "
       ]
      },
      {
       "output_type": "stream",
       "stream": "stdout",
       "text": [
        "\r",
        "63% [=======================>               ] 15,579,332   588KB/s  eta 18s    "
       ]
      },
      {
       "output_type": "stream",
       "stream": "stdout",
       "text": [
        "\r",
        "64% [========================>              ] 15,704,588   586KB/s  eta 17s    "
       ]
      },
      {
       "output_type": "stream",
       "stream": "stdout",
       "text": [
        "\r",
        "64% [========================>              ] 15,839,668   589KB/s  eta 17s    "
       ]
      },
      {
       "output_type": "stream",
       "stream": "stdout",
       "text": [
        "\r",
        "65% [========================>              ] 15,966,152   590KB/s  eta 17s    "
       ]
      },
      {
       "output_type": "stream",
       "stream": "stdout",
       "text": [
        "\r",
        "65% [========================>              ] 16,097,548   593KB/s  eta 17s    "
       ]
      },
      {
       "output_type": "stream",
       "stream": "stdout",
       "text": [
        "\r",
        "66% [========================>              ] 16,225,260   582KB/s  eta 17s    "
       ]
      },
      {
       "output_type": "stream",
       "stream": "stdout",
       "text": [
        "\r",
        "66% [=========================>             ] 16,360,340   599KB/s  eta 15s    "
       ]
      },
      {
       "output_type": "stream",
       "stream": "stdout",
       "text": [
        "\r",
        "67% [=========================>             ] 16,488,052   596KB/s  eta 15s    "
       ]
      },
      {
       "output_type": "stream",
       "stream": "stdout",
       "text": [
        "\r",
        "67% [=========================>             ] 16,615,764   600KB/s  eta 15s    "
       ]
      },
      {
       "output_type": "stream",
       "stream": "stdout",
       "text": [
        "\r",
        "68% [=========================>             ] 16,750,844   604KB/s  eta 15s    "
       ]
      },
      {
       "output_type": "stream",
       "stream": "stdout",
       "text": [
        "\r",
        "69% [=========================>             ] 16,881,012   606KB/s  eta 15s    "
       ]
      },
      {
       "output_type": "stream",
       "stream": "stdout",
       "text": [
        "\r",
        "69% [==========================>            ] 17,011,180   607KB/s  eta 14s    "
       ]
      },
      {
       "output_type": "stream",
       "stream": "stdout",
       "text": [
        "\r",
        "70% [==========================>            ] 17,141,348   602KB/s  eta 14s    "
       ]
      },
      {
       "output_type": "stream",
       "stream": "stdout",
       "text": [
        "\r",
        "70% [==========================>            ] 17,271,516   593KB/s  eta 14s    "
       ]
      },
      {
       "output_type": "stream",
       "stream": "stdout",
       "text": [
        "\r",
        "71% [==========================>            ] 17,401,684   594KB/s  eta 14s    "
       ]
      },
      {
       "output_type": "stream",
       "stream": "stdout",
       "text": [
        "\r",
        "71% [==========================>            ] 17,531,852   589KB/s  eta 14s    "
       ]
      },
      {
       "output_type": "stream",
       "stream": "stdout",
       "text": [
        "\r",
        "72% [===========================>           ] 17,662,020   592KB/s  eta 13s    "
       ]
      },
      {
       "output_type": "stream",
       "stream": "stdout",
       "text": [
        "\r",
        "72% [===========================>           ] 17,794,644   586KB/s  eta 13s    "
       ]
      },
      {
       "output_type": "stream",
       "stream": "stdout",
       "text": [
        "\r",
        "73% [===========================>           ] 17,922,356   594KB/s  eta 13s    "
       ]
      },
      {
       "output_type": "stream",
       "stream": "stdout",
       "text": [
        "\r",
        "73% [===========================>           ] 18,052,524   594KB/s  eta 13s    "
       ]
      },
      {
       "output_type": "stream",
       "stream": "stdout",
       "text": [
        "\r",
        "74% [============================>          ] 18,182,692   590KB/s  eta 13s    "
       ]
      },
      {
       "output_type": "stream",
       "stream": "stdout",
       "text": [
        "\r",
        "74% [============================>          ] 18,312,860   580KB/s  eta 11s    "
       ]
      },
      {
       "output_type": "stream",
       "stream": "stdout",
       "text": [
        "\r",
        "75% [============================>          ] 18,443,028   579KB/s  eta 11s    "
       ]
      },
      {
       "output_type": "stream",
       "stream": "stdout",
       "text": [
        "\r",
        "75% [============================>          ] 18,573,196   576KB/s  eta 11s    "
       ]
      },
      {
       "output_type": "stream",
       "stream": "stdout",
       "text": [
        "\r",
        "76% [============================>          ] 18,703,364   577KB/s  eta 11s    "
       ]
      },
      {
       "output_type": "stream",
       "stream": "stdout",
       "text": [
        "\r",
        "77% [=============================>         ] 18,833,532   578KB/s  eta 11s    "
       ]
      },
      {
       "output_type": "stream",
       "stream": "stdout",
       "text": [
        "\r",
        "77% [=============================>         ] 18,963,700   578KB/s  eta 10s    "
       ]
      },
      {
       "output_type": "stream",
       "stream": "stdout",
       "text": [
        "\r",
        "78% [=============================>         ] 19,093,868   572KB/s  eta 10s    "
       ]
      },
      {
       "output_type": "stream",
       "stream": "stdout",
       "text": [
        "\r",
        "78% [=============================>         ] 19,224,036   579KB/s  eta 10s    "
       ]
      },
      {
       "output_type": "stream",
       "stream": "stdout",
       "text": [
        "\r",
        "79% [=============================>         ] 19,354,204   576KB/s  eta 10s    "
       ]
      },
      {
       "output_type": "stream",
       "stream": "stdout",
       "text": [
        "\r",
        "79% [==============================>        ] 19,484,372   581KB/s  eta 10s    "
       ]
      },
      {
       "output_type": "stream",
       "stream": "stdout",
       "text": [
        "\r",
        "80% [==============================>        ] 19,614,540   580KB/s  eta 9s     "
       ]
      },
      {
       "output_type": "stream",
       "stream": "stdout",
       "text": [
        "\r",
        "80% [==============================>        ] 19,744,708   591KB/s  eta 9s     "
       ]
      },
      {
       "output_type": "stream",
       "stream": "stdout",
       "text": [
        "\r",
        "81% [==============================>        ] 19,874,876   592KB/s  eta 9s     "
       ]
      },
      {
       "output_type": "stream",
       "stream": "stdout",
       "text": [
        "\r",
        "81% [==============================>        ] 20,005,044   594KB/s  eta 9s     "
       ]
      },
      {
       "output_type": "stream",
       "stream": "stdout",
       "text": [
        "\r",
        "82% [===============================>       ] 20,168,368   601KB/s  eta 9s     "
       ]
      },
      {
       "output_type": "stream",
       "stream": "stdout",
       "text": [
        "\r",
        "83% [===============================>       ] 20,330,464   607KB/s  eta 8s     "
       ]
      },
      {
       "output_type": "stream",
       "stream": "stdout",
       "text": [
        "\r",
        "83% [===============================>       ] 20,496,244   611KB/s  eta 8s     "
       ]
      },
      {
       "output_type": "stream",
       "stream": "stdout",
       "text": [
        "\r",
        "84% [===============================>       ] 20,627,640   612KB/s  eta 8s     "
       ]
      },
      {
       "output_type": "stream",
       "stream": "stdout",
       "text": [
        "\r",
        "84% [================================>      ] 20,759,036   617KB/s  eta 8s     "
       ]
      },
      {
       "output_type": "stream",
       "stream": "stdout",
       "text": [
        "\r",
        "85% [================================>      ] 20,890,432   628KB/s  eta 8s     "
       ]
      },
      {
       "output_type": "stream",
       "stream": "stdout",
       "text": [
        "\r",
        "86% [================================>      ] 21,046,388   637KB/s  eta 6s     "
       ]
      },
      {
       "output_type": "stream",
       "stream": "stdout",
       "text": [
        "\r",
        "86% [================================>      ] 21,210,940   646KB/s  eta 6s     "
       ]
      },
      {
       "output_type": "stream",
       "stream": "stdout",
       "text": [
        "\r",
        "87% [=================================>     ] 21,347,248   648KB/s  eta 6s     "
       ]
      },
      {
       "output_type": "stream",
       "stream": "stdout",
       "text": [
        "\r",
        "87% [=================================>     ] 21,501,976   653KB/s  eta 6s     "
       ]
      },
      {
       "output_type": "stream",
       "stream": "stdout",
       "text": [
        "\r",
        "88% [=================================>     ] 21,632,144   645KB/s  eta 6s     "
       ]
      },
      {
       "output_type": "stream",
       "stream": "stdout",
       "text": [
        "\r",
        "89% [=================================>     ] 21,802,836   661KB/s  eta 5s     "
       ]
      },
      {
       "output_type": "stream",
       "stream": "stdout",
       "text": [
        "\r",
        "89% [==================================>    ] 21,994,404   672KB/s  eta 5s     "
       ]
      },
      {
       "output_type": "stream",
       "stream": "stdout",
       "text": [
        "\r",
        "90% [==================================>    ] 22,135,624   677KB/s  eta 5s     "
       ]
      },
      {
       "output_type": "stream",
       "stream": "stdout",
       "text": [
        "\r",
        "91% [==================================>    ] 22,282,984   682KB/s  eta 5s     "
       ]
      },
      {
       "output_type": "stream",
       "stream": "stdout",
       "text": [
        "\r",
        "91% [==================================>    ] 22,478,236   694KB/s  eta 5s     "
       ]
      },
      {
       "output_type": "stream",
       "stream": "stdout",
       "text": [
        "\r",
        "92% [===================================>   ] 22,650,156   704KB/s  eta 3s     "
       ]
      },
      {
       "output_type": "stream",
       "stream": "stdout",
       "text": [
        "\r",
        "93% [===================================>   ] 22,841,724   712KB/s  eta 3s     "
       ]
      },
      {
       "output_type": "stream",
       "stream": "stdout",
       "text": [
        "\r",
        "94% [===================================>   ] 22,998,908   711KB/s  eta 3s     "
       ]
      },
      {
       "output_type": "stream",
       "stream": "stdout",
       "text": [
        "\r",
        "94% [===================================>   ] 23,168,372   717KB/s  eta 3s     "
       ]
      },
      {
       "output_type": "stream",
       "stream": "stdout",
       "text": [
        "\r",
        "95% [====================================>  ] 23,294,856   716KB/s  eta 3s     "
       ]
      },
      {
       "output_type": "stream",
       "stream": "stdout",
       "text": [
        "\r",
        "95% [====================================>  ] 23,454,496   721KB/s  eta 2s     "
       ]
      },
      {
       "output_type": "stream",
       "stream": "stdout",
       "text": [
        "\r",
        "96% [====================================>  ] 23,584,664   721KB/s  eta 2s     "
       ]
      },
      {
       "output_type": "stream",
       "stream": "stdout",
       "text": [
        "\r",
        "97% [====================================>  ] 23,759,040   715KB/s  eta 2s     "
       ]
      },
      {
       "output_type": "stream",
       "stream": "stdout",
       "text": [
        "\r",
        "97% [=====================================> ] 23,950,608   732KB/s  eta 2s     "
       ]
      },
      {
       "output_type": "stream",
       "stream": "stdout",
       "text": [
        "\r",
        "98% [=====================================> ] 23,986,764   619KB/s  eta 1s     "
       ]
      },
      {
       "output_type": "stream",
       "stream": "stdout",
       "text": [
        "\r",
        "98% [=====================================> ] 24,037,752   586KB/s  eta 1s     "
       ]
      },
      {
       "output_type": "stream",
       "stream": "stdout",
       "text": [
        "\r",
        "98% [=====================================> ] 24,117,572   554KB/s  eta 1s     "
       ]
      },
      {
       "output_type": "stream",
       "stream": "stdout",
       "text": [
        "\r",
        "99% [=====================================> ] 24,205,988   514KB/s  eta 1s     "
       ]
      },
      {
       "output_type": "stream",
       "stream": "stdout",
       "text": [
        "\r",
        "99% [=====================================> ] 24,262,072   476KB/s  eta 0s     "
       ]
      },
      {
       "output_type": "stream",
       "stream": "stdout",
       "text": [
        "\r",
        "99% [=====================================> ] 24,391,416   444KB/s  eta 0s     "
       ]
      },
      {
       "output_type": "stream",
       "stream": "stdout",
       "text": [
        "\r",
        "100%[======================================>] 24,441,994   417KB/s   in 45s    \r\n",
        "\r\n",
        "2012-12-17 08:56:18 (532 KB/s) - \u2018its_12_11_otus.tar.gz\u2019 saved [24441994/24441994]\r\n",
        "\r\n"
       ]
      }
     ],
     "prompt_number": 1
    },
    {
     "cell_type": "markdown",
     "metadata": {},
     "source": [
      "Now unzip these files."
     ]
    },
    {
     "cell_type": "code",
     "collapsed": false,
     "input": [
      "!tar -xzf its-soils-tutorial.tgz\n",
      "!tar -xzf its_12_11_otus.tar.gz\n",
      "!gunzip ./its_12_11_otus/rep_set/97_otus.fasta.gz\n",
      "!gunzip ./its_12_11_otus/taxonomy/97_otu_taxonomy.txt.gz"
     ],
     "language": "python",
     "metadata": {},
     "outputs": [],
     "prompt_number": 2
    },
    {
     "cell_type": "markdown",
     "metadata": {},
     "source": [
      "You can then view the files in each of these direcories by passing the directory name to the ``FileLinks`` function."
     ]
    },
    {
     "cell_type": "code",
     "collapsed": false,
     "input": [
      "from IPython.display import FileLinks\n",
      "FileLinks('its-soils-tutorial')"
     ],
     "language": "python",
     "metadata": {},
     "outputs": [
      {
       "html": [
        "its-soils-tutorial/<br>\n",
        "&nbsp;&nbsp;<a href='files/its-soils-tutorial/map.txt' target='_blank'>map.txt</a><br>\n",
        "&nbsp;&nbsp;<a href='files/its-soils-tutorial/params.txt' target='_blank'>params.txt</a><br>\n",
        "&nbsp;&nbsp;<a href='files/its-soils-tutorial/README.md' target='_blank'>README.md</a><br>\n",
        "&nbsp;&nbsp;<a href='files/its-soils-tutorial/seqs.fna' target='_blank'>seqs.fna</a><br>"
       ],
       "output_type": "pyout",
       "prompt_number": 3,
       "text": [
        "its-soils-tutorial/\n",
        "  map.txt\n",
        "  params.txt\n",
        "  README.md\n",
        "  seqs.fna"
       ]
      }
     ],
     "prompt_number": 3
    },
    {
     "cell_type": "markdown",
     "metadata": {},
     "source": [
      "The ``params.txt`` file contains many of the details of this analysis. You can review those by clicking the link or by catting the file. "
     ]
    },
    {
     "cell_type": "code",
     "collapsed": false,
     "input": [
      "!cat its-soils-tutorial/params.txt"
     ],
     "language": "python",
     "metadata": {},
     "outputs": [
      {
       "output_type": "stream",
       "stream": "stdout",
       "text": [
        "assign_taxonomy:rdp_max_memory 8000\r\n",
        "pick_otus:enable_rev_strand_match True\r\n",
        "pick_otus:max_accepts 1\r\n",
        "pick_otus:max_rejects 8\r\n",
        "pick_otus:stepwords 8\r\n",
        "pick_otus:word_length 8\r\n",
        "assign_taxonomy:id_to_taxonomy_fp its_12_11_otus/taxonomy/97_otu_taxonomy.txt\r\n",
        "assign_taxonomy:reference_seqs_fp its_12_11_otus/rep_set/97_otus.fasta\r\n",
        "beta_diversity:metrics bray_curtis\r\n"
       ]
      }
     ],
     "prompt_number": 4
    },
    {
     "cell_type": "markdown",
     "metadata": {},
     "source": [
      "The paramters that differentiate ITS analysis from analysis of other amplicons are the two ``assign_taxonomy`` parameters, which are pointing to the reference collection that we just downloaded, and the ``beta_diversity`` parameter, where we specify to compare communities using the non-phylogenetic Bray-Curtis metric, which we use here because we don't currently have a phylogenetic tree relating these OTUs."
     ]
    },
    {
     "cell_type": "markdown",
     "metadata": {},
     "source": [
      "Set up paths for the analysis steps."
     ]
    },
    {
     "cell_type": "code",
     "collapsed": false,
     "input": [
      "input_seqs_fp = \"its-soils-tutorial/seqs.fna\"\n",
      "reference_seqs_fp = \"its_12_11_otus/rep_set/97_otus.fasta\"\n",
      "output_dir = \"ucrss_fast/\"\n",
      "parameters_fp = \"its-soils-tutorial/params.txt\"\n",
      "mapping_fp = \"its-soils-tutorial/map.txt\""
     ],
     "language": "python",
     "metadata": {},
     "outputs": [],
     "prompt_number": 5
    },
    {
     "cell_type": "markdown",
     "metadata": {},
     "source": [
      "We're now ready to run the ``pick_subsampled_reference_otus_through_otu_table.py`` workflow. You can find [a description of this process here](http://qiime.org/tutorials/open_reference_illumina_processing.html#option-2-subsampled-open-reference-otu-picking)."
     ]
    },
    {
     "cell_type": "code",
     "collapsed": false,
     "input": [
      "!pick_subsampled_reference_otus_through_otu_table.py -i $input_seqs_fp -r $reference_seqs_fp -o $output_dir -p $parameters_fp --suppress_align_and_tree"
     ],
     "language": "python",
     "metadata": {},
     "outputs": [],
     "prompt_number": 6
    },
    {
     "cell_type": "markdown",
     "metadata": {},
     "source": [
      "After that completes (it will take a few minutes) we'll have the OTU table with taxonomy. You can review all of the files that are created by passing the path to the output directory to the ``FileLinks`` function."
     ]
    },
    {
     "cell_type": "code",
     "collapsed": false,
     "input": [
      "FileLinks(\"ucrss_fast/\")"
     ],
     "language": "python",
     "metadata": {},
     "outputs": [
      {
       "html": [
        "ucrss_fast/<br>\n",
        "&nbsp;&nbsp;<a href='files/ucrss_fast/final_otu_map.txt' target='_blank'>final_otu_map.txt</a><br>\n",
        "&nbsp;&nbsp;<a href='files/ucrss_fast/final_otu_map_mc2.txt' target='_blank'>final_otu_map_mc2.txt</a><br>\n",
        "&nbsp;&nbsp;<a href='files/ucrss_fast/log_20121217085619.txt' target='_blank'>log_20121217085619.txt</a><br>\n",
        "&nbsp;&nbsp;<a href='files/ucrss_fast/new_refseqs.fna' target='_blank'>new_refseqs.fna</a><br>\n",
        "&nbsp;&nbsp;<a href='files/ucrss_fast/otu_table_mc2.biom' target='_blank'>otu_table_mc2.biom</a><br>\n",
        "&nbsp;&nbsp;<a href='files/ucrss_fast/otu_table_mc2_w_tax.biom' target='_blank'>otu_table_mc2_w_tax.biom</a><br>\n",
        "&nbsp;&nbsp;<a href='files/ucrss_fast/rep_set.fna' target='_blank'>rep_set.fna</a><br>\n",
        "ucrss_fast/prefilter_otus/<br>\n",
        "&nbsp;&nbsp;<a href='files/ucrss_fast/prefilter_otus/prefiltered_seqs.fna' target='_blank'>prefiltered_seqs.fna</a><br>\n",
        "&nbsp;&nbsp;<a href='files/ucrss_fast/prefilter_otus/seqs_clusters.uc' target='_blank'>seqs_clusters.uc</a><br>\n",
        "&nbsp;&nbsp;<a href='files/ucrss_fast/prefilter_otus/seqs_failures.txt' target='_blank'>seqs_failures.txt</a><br>\n",
        "&nbsp;&nbsp;<a href='files/ucrss_fast/prefilter_otus/seqs_otus.log' target='_blank'>seqs_otus.log</a><br>\n",
        "&nbsp;&nbsp;<a href='files/ucrss_fast/prefilter_otus/seqs_otus.txt' target='_blank'>seqs_otus.txt</a><br>\n",
        "ucrss_fast/rdp_assigned_taxonomy/<br>\n",
        "&nbsp;&nbsp;<a href='files/ucrss_fast/rdp_assigned_taxonomy/rep_set_tax_assignments.log' target='_blank'>rep_set_tax_assignments.log</a><br>\n",
        "&nbsp;&nbsp;<a href='files/ucrss_fast/rdp_assigned_taxonomy/rep_set_tax_assignments.txt' target='_blank'>rep_set_tax_assignments.txt</a><br>\n",
        "ucrss_fast/step1_otus/<br>\n",
        "&nbsp;&nbsp;<a href='files/ucrss_fast/step1_otus/failures.fasta' target='_blank'>failures.fasta</a><br>\n",
        "&nbsp;&nbsp;<a href='files/ucrss_fast/step1_otus/prefiltered_seqs_clusters.uc' target='_blank'>prefiltered_seqs_clusters.uc</a><br>\n",
        "&nbsp;&nbsp;<a href='files/ucrss_fast/step1_otus/prefiltered_seqs_failures.txt' target='_blank'>prefiltered_seqs_failures.txt</a><br>\n",
        "&nbsp;&nbsp;<a href='files/ucrss_fast/step1_otus/prefiltered_seqs_otus.log' target='_blank'>prefiltered_seqs_otus.log</a><br>\n",
        "&nbsp;&nbsp;<a href='files/ucrss_fast/step1_otus/prefiltered_seqs_otus.txt' target='_blank'>prefiltered_seqs_otus.txt</a><br>\n",
        "&nbsp;&nbsp;<a href='files/ucrss_fast/step1_otus/step1_rep_set.fna' target='_blank'>step1_rep_set.fna</a><br>\n",
        "&nbsp;&nbsp;<a href='files/ucrss_fast/step1_otus/subsampled_failures.fasta' target='_blank'>subsampled_failures.fasta</a><br>\n",
        "ucrss_fast/step2_otus/<br>\n",
        "&nbsp;&nbsp;<a href='files/ucrss_fast/step2_otus/step2_rep_set.fna' target='_blank'>step2_rep_set.fna</a><br>\n",
        "&nbsp;&nbsp;<a href='files/ucrss_fast/step2_otus/subsampled_failures_clusters.uc' target='_blank'>subsampled_failures_clusters.uc</a><br>\n",
        "&nbsp;&nbsp;<a href='files/ucrss_fast/step2_otus/subsampled_failures_otus.log' target='_blank'>subsampled_failures_otus.log</a><br>\n",
        "&nbsp;&nbsp;<a href='files/ucrss_fast/step2_otus/subsampled_failures_otus.txt' target='_blank'>subsampled_failures_otus.txt</a><br>\n",
        "ucrss_fast/step3_otus/<br>\n",
        "&nbsp;&nbsp;<a href='files/ucrss_fast/step3_otus/failures_clusters.uc' target='_blank'>failures_clusters.uc</a><br>\n",
        "&nbsp;&nbsp;<a href='files/ucrss_fast/step3_otus/failures_failures.fasta' target='_blank'>failures_failures.fasta</a><br>\n",
        "&nbsp;&nbsp;<a href='files/ucrss_fast/step3_otus/failures_failures.txt' target='_blank'>failures_failures.txt</a><br>\n",
        "&nbsp;&nbsp;<a href='files/ucrss_fast/step3_otus/failures_otus.log' target='_blank'>failures_otus.log</a><br>\n",
        "&nbsp;&nbsp;<a href='files/ucrss_fast/step3_otus/failures_otus.txt' target='_blank'>failures_otus.txt</a><br>\n",
        "ucrss_fast/step4_otus/<br>\n",
        "&nbsp;&nbsp;<a href='files/ucrss_fast/step4_otus/failures_failures_clusters.uc' target='_blank'>failures_failures_clusters.uc</a><br>\n",
        "&nbsp;&nbsp;<a href='files/ucrss_fast/step4_otus/failures_failures_otus.log' target='_blank'>failures_failures_otus.log</a><br>\n",
        "&nbsp;&nbsp;<a href='files/ucrss_fast/step4_otus/failures_failures_otus.txt' target='_blank'>failures_failures_otus.txt</a><br>\n",
        "&nbsp;&nbsp;<a href='files/ucrss_fast/step4_otus/step4_rep_set.fna' target='_blank'>step4_rep_set.fna</a><br>"
       ],
       "output_type": "pyout",
       "prompt_number": 7,
       "text": [
        "ucrss_fast/\n",
        "  final_otu_map.txt\n",
        "  final_otu_map_mc2.txt\n",
        "  log_20121217085619.txt\n",
        "  new_refseqs.fna\n",
        "  otu_table_mc2.biom\n",
        "  otu_table_mc2_w_tax.biom\n",
        "  rep_set.fna\n",
        "ucrss_fast/prefilter_otus/\n",
        "  prefiltered_seqs.fna\n",
        "  seqs_clusters.uc\n",
        "  seqs_failures.txt\n",
        "  seqs_otus.log\n",
        "  seqs_otus.txt\n",
        "ucrss_fast/rdp_assigned_taxonomy/\n",
        "  rep_set_tax_assignments.log\n",
        "  rep_set_tax_assignments.txt\n",
        "ucrss_fast/step1_otus/\n",
        "  failures.fasta\n",
        "  prefiltered_seqs_clusters.uc\n",
        "  prefiltered_seqs_failures.txt\n",
        "  prefiltered_seqs_otus.log\n",
        "  prefiltered_seqs_otus.txt\n",
        "  step1_rep_set.fna\n",
        "  subsampled_failures.fasta\n",
        "ucrss_fast/step2_otus/\n",
        "  step2_rep_set.fna\n",
        "  subsampled_failures_clusters.uc\n",
        "  subsampled_failures_otus.log\n",
        "  subsampled_failures_otus.txt\n",
        "ucrss_fast/step3_otus/\n",
        "  failures_clusters.uc\n",
        "  failures_failures.fasta\n",
        "  failures_failures.txt\n",
        "  failures_otus.log\n",
        "  failures_otus.txt\n",
        "ucrss_fast/step4_otus/\n",
        "  failures_failures_clusters.uc\n",
        "  failures_failures_otus.log\n",
        "  failures_failures_otus.txt\n",
        "  step4_rep_set.fna"
       ]
      }
     ],
     "prompt_number": 7
    },
    {
     "cell_type": "markdown",
     "metadata": {},
     "source": [
      "You can then pass the OTU table to ``per_library_stats.py`` to view a summary of the information in the OTU table."
     ]
    },
    {
     "cell_type": "code",
     "collapsed": false,
     "input": [
      "otu_table_fp = \"ucrss_fast/otu_table_mc2_w_tax.biom\"\n",
      "!per_library_stats.py -i $otu_table_fp"
     ],
     "language": "python",
     "metadata": {},
     "outputs": [
      {
       "output_type": "stream",
       "stream": "stdout",
       "text": [
        "Num samples: 9\r\n",
        "Num otus: 1092\r\n",
        "Num observations (sequences): 15927.0\r\n",
        "Table density (fraction of non-zero values): 0.1452\r\n",
        "\r\n",
        "Seqs/sample summary:\r\n",
        " Min: 287.0\r\n",
        " Max: 3787.0\r\n",
        " Median: 1257.0\r\n",
        " Mean: 1769.66666667\r\n",
        " Std. dev.: 1174.29875056\r\n",
        " Median Absolute Deviation: 859.0\r\n",
        " Default even sampling depth in\r\n",
        "  core_qiime_analyses.py (just a suggestion): 287.0\r\n",
        " Sample Metadata Categories: None provided\r\n",
        " Observation Metadata Categories: taxonomy\r\n",
        "\r\n",
        "Seqs/sample detail:\r\n",
        " LQ2: 287.0\r\n",
        " SV1: 655.0\r\n",
        " CL4: 875.0\r\n",
        " AR3: 1196.0\r\n",
        " MD4: 1257.0\r\n",
        " PE5: 2116.0\r\n",
        " KP4: 2193.0\r\n",
        " PE6: 3561.0\r\n",
        " SF1: 3787.0\r\n"
       ]
      }
     ],
     "prompt_number": 8
    },
    {
     "cell_type": "markdown",
     "metadata": {},
     "source": [
      "Next we'll run a few representative analyses on the OTU table. First we'll compute beta diveristy and generated PCoA plots, and then we'll generate taxonomic summaries of the samples. Note that for the beta diversity analysis we choose an even sampling depth of ``287`` based on the results of ``per_library_stats.py``."
     ]
    },
    {
     "cell_type": "code",
     "collapsed": false,
     "input": [
      "bdiv_output_dir = \"ucrss_fast/bdiv_even287/\"\n",
      "!beta_diversity_through_plots.py -i $otu_table_fp -o $bdiv_output_dir -e 287 -p $parameters_fp -m $mapping_fp"
     ],
     "language": "python",
     "metadata": {},
     "outputs": [],
     "prompt_number": 9
    },
    {
     "cell_type": "code",
     "collapsed": false,
     "input": [
      "FileLinks(\"ucrss_fast/bdiv_even287/\")"
     ],
     "language": "python",
     "metadata": {},
     "outputs": [
      {
       "html": [
        "ucrss_fast/bdiv_even287/<br>\n",
        "&nbsp;&nbsp;<a href='files/ucrss_fast/bdiv_even287/bray_curtis_dm.txt' target='_blank'>bray_curtis_dm.txt</a><br>\n",
        "&nbsp;&nbsp;<a href='files/ucrss_fast/bdiv_even287/bray_curtis_pc.txt' target='_blank'>bray_curtis_pc.txt</a><br>\n",
        "&nbsp;&nbsp;<a href='files/ucrss_fast/bdiv_even287/log_20121217090125.txt' target='_blank'>log_20121217090125.txt</a><br>\n",
        "&nbsp;&nbsp;<a href='files/ucrss_fast/bdiv_even287/otu_table_mc2_w_tax_even287.biom' target='_blank'>otu_table_mc2_w_tax_even287.biom</a><br>\n",
        "&nbsp;&nbsp;<a href='files/ucrss_fast/bdiv_even287/prefs.txt' target='_blank'>prefs.txt</a><br>\n",
        "ucrss_fast/bdiv_even287/bray_curtis_2d_continuous/<br>\n",
        "&nbsp;&nbsp;<a href='files/ucrss_fast/bdiv_even287/bray_curtis_2d_continuous/bray_curtis_pc_2D_PCoA_plots.html' target='_blank'>bray_curtis_pc_2D_PCoA_plots.html</a><br>\n",
        "ucrss_fast/bdiv_even287/bray_curtis_2d_continuous/20121217090127nHL03Q14GmRTdDpgMF4T/201212170901274IpRsH6pO4y5ex7qoxP4/<br>\n",
        "&nbsp;&nbsp;<a href='files/ucrss_fast/bdiv_even287/bray_curtis_2d_continuous/20121217090127nHL03Q14GmRTdDpgMF4T/201212170901274IpRsH6pO4y5ex7qoxP4/PC1_vs_PC2_plot.png' target='_blank'>PC1_vs_PC2_plot.png</a><br>\n",
        "&nbsp;&nbsp;<a href='files/ucrss_fast/bdiv_even287/bray_curtis_2d_continuous/20121217090127nHL03Q14GmRTdDpgMF4T/201212170901274IpRsH6pO4y5ex7qoxP4/PC1_vs_PC3_plot.png' target='_blank'>PC1_vs_PC3_plot.png</a><br>\n",
        "&nbsp;&nbsp;<a href='files/ucrss_fast/bdiv_even287/bray_curtis_2d_continuous/20121217090127nHL03Q14GmRTdDpgMF4T/201212170901274IpRsH6pO4y5ex7qoxP4/PC1vsPC2plot.eps.gz' target='_blank'>PC1vsPC2plot.eps.gz</a><br>\n",
        "&nbsp;&nbsp;<a href='files/ucrss_fast/bdiv_even287/bray_curtis_2d_continuous/20121217090127nHL03Q14GmRTdDpgMF4T/201212170901274IpRsH6pO4y5ex7qoxP4/PC1vsPC3plot.eps.gz' target='_blank'>PC1vsPC3plot.eps.gz</a><br>\n",
        "&nbsp;&nbsp;<a href='files/ucrss_fast/bdiv_even287/bray_curtis_2d_continuous/20121217090127nHL03Q14GmRTdDpgMF4T/201212170901274IpRsH6pO4y5ex7qoxP4/PC3_vs_PC2_plot.png' target='_blank'>PC3_vs_PC2_plot.png</a><br>\n",
        "&nbsp;&nbsp;<a href='files/ucrss_fast/bdiv_even287/bray_curtis_2d_continuous/20121217090127nHL03Q14GmRTdDpgMF4T/201212170901274IpRsH6pO4y5ex7qoxP4/PC3vsPC2plot.eps.gz' target='_blank'>PC3vsPC2plot.eps.gz</a><br>\n",
        "ucrss_fast/bdiv_even287/bray_curtis_2d_continuous/js/<br>\n",
        "&nbsp;&nbsp;<a href='files/ucrss_fast/bdiv_even287/bray_curtis_2d_continuous/js/overlib.js' target='_blank'>overlib.js</a><br>\n",
        "ucrss_fast/bdiv_even287/bray_curtis_2d_discrete/<br>\n",
        "&nbsp;&nbsp;<a href='files/ucrss_fast/bdiv_even287/bray_curtis_2d_discrete/bray_curtis_pc_2D_PCoA_plots.html' target='_blank'>bray_curtis_pc_2D_PCoA_plots.html</a><br>\n",
        "ucrss_fast/bdiv_even287/bray_curtis_2d_discrete/201212170901280leWlHR0uG6TPAK7dGg4/20121217090128nCRPh3SNxSfbUkQu0sbV/<br>\n",
        "&nbsp;&nbsp;<a href='files/ucrss_fast/bdiv_even287/bray_curtis_2d_discrete/201212170901280leWlHR0uG6TPAK7dGg4/20121217090128nCRPh3SNxSfbUkQu0sbV/PC1_vs_PC2_plot.png' target='_blank'>PC1_vs_PC2_plot.png</a><br>\n",
        "&nbsp;&nbsp;<a href='files/ucrss_fast/bdiv_even287/bray_curtis_2d_discrete/201212170901280leWlHR0uG6TPAK7dGg4/20121217090128nCRPh3SNxSfbUkQu0sbV/PC1_vs_PC3_plot.png' target='_blank'>PC1_vs_PC3_plot.png</a><br>\n",
        "&nbsp;&nbsp;<a href='files/ucrss_fast/bdiv_even287/bray_curtis_2d_discrete/201212170901280leWlHR0uG6TPAK7dGg4/20121217090128nCRPh3SNxSfbUkQu0sbV/PC1vsPC2plot.eps.gz' target='_blank'>PC1vsPC2plot.eps.gz</a><br>\n",
        "&nbsp;&nbsp;<a href='files/ucrss_fast/bdiv_even287/bray_curtis_2d_discrete/201212170901280leWlHR0uG6TPAK7dGg4/20121217090128nCRPh3SNxSfbUkQu0sbV/PC1vsPC3plot.eps.gz' target='_blank'>PC1vsPC3plot.eps.gz</a><br>\n",
        "&nbsp;&nbsp;<a href='files/ucrss_fast/bdiv_even287/bray_curtis_2d_discrete/201212170901280leWlHR0uG6TPAK7dGg4/20121217090128nCRPh3SNxSfbUkQu0sbV/PC3_vs_PC2_plot.png' target='_blank'>PC3_vs_PC2_plot.png</a><br>\n",
        "&nbsp;&nbsp;<a href='files/ucrss_fast/bdiv_even287/bray_curtis_2d_discrete/201212170901280leWlHR0uG6TPAK7dGg4/20121217090128nCRPh3SNxSfbUkQu0sbV/PC3vsPC2plot.eps.gz' target='_blank'>PC3vsPC2plot.eps.gz</a><br>\n",
        "ucrss_fast/bdiv_even287/bray_curtis_2d_discrete/js/<br>\n",
        "&nbsp;&nbsp;<a href='files/ucrss_fast/bdiv_even287/bray_curtis_2d_discrete/js/overlib.js' target='_blank'>overlib.js</a><br>\n",
        "ucrss_fast/bdiv_even287/bray_curtis_3d_continuous/<br>\n",
        "&nbsp;&nbsp;<a href='files/ucrss_fast/bdiv_even287/bray_curtis_3d_continuous/bray_curtis_pc_3D_PCoA_plots.html' target='_blank'>bray_curtis_pc_3D_PCoA_plots.html</a><br>\n",
        "ucrss_fast/bdiv_even287/bray_curtis_3d_continuous/20121217090127kqRA5WKwEsmgMaTxTExr/<br>\n",
        "&nbsp;&nbsp;<a href='files/ucrss_fast/bdiv_even287/bray_curtis_3d_continuous/20121217090127kqRA5WKwEsmgMaTxTExr/bray_curtis_pc.txt.kin' target='_blank'>bray_curtis_pc.txt.kin</a><br>\n",
        "ucrss_fast/bdiv_even287/bray_curtis_3d_continuous/jar/<br>\n",
        "&nbsp;&nbsp;<a href='files/ucrss_fast/bdiv_even287/bray_curtis_3d_continuous/jar/king.jar' target='_blank'>king.jar</a><br>\n",
        "ucrss_fast/bdiv_even287/bray_curtis_3d_discrete/<br>\n",
        "&nbsp;&nbsp;<a href='files/ucrss_fast/bdiv_even287/bray_curtis_3d_discrete/bray_curtis_pc_3D_PCoA_plots.html' target='_blank'>bray_curtis_pc_3D_PCoA_plots.html</a><br>\n",
        "ucrss_fast/bdiv_even287/bray_curtis_3d_discrete/20121217090127A7KbDbirr94ibvQuNp96/<br>\n",
        "&nbsp;&nbsp;<a href='files/ucrss_fast/bdiv_even287/bray_curtis_3d_discrete/20121217090127A7KbDbirr94ibvQuNp96/bray_curtis_pc.txt.kin' target='_blank'>bray_curtis_pc.txt.kin</a><br>\n",
        "ucrss_fast/bdiv_even287/bray_curtis_3d_discrete/jar/<br>\n",
        "&nbsp;&nbsp;<a href='files/ucrss_fast/bdiv_even287/bray_curtis_3d_discrete/jar/king.jar' target='_blank'>king.jar</a><br>"
       ],
       "output_type": "pyout",
       "prompt_number": 10,
       "text": [
        "ucrss_fast/bdiv_even287/\n",
        "  bray_curtis_dm.txt\n",
        "  bray_curtis_pc.txt\n",
        "  log_20121217090125.txt\n",
        "  otu_table_mc2_w_tax_even287.biom\n",
        "  prefs.txt\n",
        "ucrss_fast/bdiv_even287/bray_curtis_2d_continuous/\n",
        "  bray_curtis_pc_2D_PCoA_plots.html\n",
        "ucrss_fast/bdiv_even287/bray_curtis_2d_continuous/20121217090127nHL03Q14GmRTdDpgMF4T/201212170901274IpRsH6pO4y5ex7qoxP4/\n",
        "  PC1_vs_PC2_plot.png\n",
        "  PC1_vs_PC3_plot.png\n",
        "  PC1vsPC2plot.eps.gz\n",
        "  PC1vsPC3plot.eps.gz\n",
        "  PC3_vs_PC2_plot.png\n",
        "  PC3vsPC2plot.eps.gz\n",
        "ucrss_fast/bdiv_even287/bray_curtis_2d_continuous/js/\n",
        "  overlib.js\n",
        "ucrss_fast/bdiv_even287/bray_curtis_2d_discrete/\n",
        "  bray_curtis_pc_2D_PCoA_plots.html\n",
        "ucrss_fast/bdiv_even287/bray_curtis_2d_discrete/201212170901280leWlHR0uG6TPAK7dGg4/20121217090128nCRPh3SNxSfbUkQu0sbV/\n",
        "  PC1_vs_PC2_plot.png\n",
        "  PC1_vs_PC3_plot.png\n",
        "  PC1vsPC2plot.eps.gz\n",
        "  PC1vsPC3plot.eps.gz\n",
        "  PC3_vs_PC2_plot.png\n",
        "  PC3vsPC2plot.eps.gz\n",
        "ucrss_fast/bdiv_even287/bray_curtis_2d_discrete/js/\n",
        "  overlib.js\n",
        "ucrss_fast/bdiv_even287/bray_curtis_3d_continuous/\n",
        "  bray_curtis_pc_3D_PCoA_plots.html\n",
        "ucrss_fast/bdiv_even287/bray_curtis_3d_continuous/20121217090127kqRA5WKwEsmgMaTxTExr/\n",
        "  bray_curtis_pc.txt.kin\n",
        "ucrss_fast/bdiv_even287/bray_curtis_3d_continuous/jar/\n",
        "  king.jar\n",
        "ucrss_fast/bdiv_even287/bray_curtis_3d_discrete/\n",
        "  bray_curtis_pc_3D_PCoA_plots.html\n",
        "ucrss_fast/bdiv_even287/bray_curtis_3d_discrete/20121217090127A7KbDbirr94ibvQuNp96/\n",
        "  bray_curtis_pc.txt.kin\n",
        "ucrss_fast/bdiv_even287/bray_curtis_3d_discrete/jar/\n",
        "  king.jar"
       ]
      }
     ],
     "prompt_number": 10
    },
    {
     "cell_type": "markdown",
     "metadata": {},
     "source": [
      "The primary files of interested here are the 2d and 3d PCoA plots. You can view those by clicking the corresponding links."
     ]
    },
    {
     "cell_type": "code",
     "collapsed": false,
     "input": [
      "taxa_output_dir = 'ucrss_fast/taxa_plots/'\n",
      "!summarize_taxa_through_plots.py -i $otu_table_fp -o $taxa_output_dir"
     ],
     "language": "python",
     "metadata": {},
     "outputs": [],
     "prompt_number": 11
    },
    {
     "cell_type": "code",
     "collapsed": false,
     "input": [
      "FileLinks('ucrss_fast/taxa_plots/')"
     ],
     "language": "python",
     "metadata": {},
     "outputs": [
      {
       "html": [
        "ucrss_fast/taxa_plots/<br>\n",
        "&nbsp;&nbsp;<a href='files/ucrss_fast/taxa_plots/log_20121217090129.txt' target='_blank'>log_20121217090129.txt</a><br>\n",
        "&nbsp;&nbsp;<a href='files/ucrss_fast/taxa_plots/otu_table_mc2_w_tax_L2.txt' target='_blank'>otu_table_mc2_w_tax_L2.txt</a><br>\n",
        "&nbsp;&nbsp;<a href='files/ucrss_fast/taxa_plots/otu_table_mc2_w_tax_L3.txt' target='_blank'>otu_table_mc2_w_tax_L3.txt</a><br>\n",
        "&nbsp;&nbsp;<a href='files/ucrss_fast/taxa_plots/otu_table_mc2_w_tax_L4.txt' target='_blank'>otu_table_mc2_w_tax_L4.txt</a><br>\n",
        "&nbsp;&nbsp;<a href='files/ucrss_fast/taxa_plots/otu_table_mc2_w_tax_L5.txt' target='_blank'>otu_table_mc2_w_tax_L5.txt</a><br>\n",
        "&nbsp;&nbsp;<a href='files/ucrss_fast/taxa_plots/otu_table_mc2_w_tax_L6.txt' target='_blank'>otu_table_mc2_w_tax_L6.txt</a><br>\n",
        "ucrss_fast/taxa_plots/taxa_summary_plots/<br>\n",
        "&nbsp;&nbsp;<a href='files/ucrss_fast/taxa_plots/taxa_summary_plots/area_charts.html' target='_blank'>area_charts.html</a><br>\n",
        "&nbsp;&nbsp;<a href='files/ucrss_fast/taxa_plots/taxa_summary_plots/bar_charts.html' target='_blank'>bar_charts.html</a><br>\n",
        "ucrss_fast/taxa_plots/taxa_summary_plots/charts/<br>\n",
        "&nbsp;&nbsp;<a href='files/ucrss_fast/taxa_plots/taxa_summary_plots/charts/3JeSflJ0J1nk780uRDfEE10qn4i2KW.pdf' target='_blank'>3JeSflJ0J1nk780uRDfEE10qn4i2KW.pdf</a><br>\n",
        "&nbsp;&nbsp;<a href='files/ucrss_fast/taxa_plots/taxa_summary_plots/charts/4n9Yz533g02ZcJeCZk7X3zikndXXxZ.png' target='_blank'>4n9Yz533g02ZcJeCZk7X3zikndXXxZ.png</a><br>\n",
        "&nbsp;&nbsp;<a href='files/ucrss_fast/taxa_plots/taxa_summary_plots/charts/4n9Yz533g02ZcJeCZk7X3zikndXXxZ_legend.pdf' target='_blank'>4n9Yz533g02ZcJeCZk7X3zikndXXxZ_legend.pdf</a><br>\n",
        "&nbsp;&nbsp;<a href='files/ucrss_fast/taxa_plots/taxa_summary_plots/charts/4qagJFLLs4O5le3aZqywejSzEyZHa0.pdf' target='_blank'>4qagJFLLs4O5le3aZqywejSzEyZHa0.pdf</a><br>\n",
        "&nbsp;&nbsp;<a href='files/ucrss_fast/taxa_plots/taxa_summary_plots/charts/6HmzdUd1YEZfmI5Qo3sj20sz7kR6uJ.png' target='_blank'>6HmzdUd1YEZfmI5Qo3sj20sz7kR6uJ.png</a><br>\n",
        "&nbsp;&nbsp;<a href='files/ucrss_fast/taxa_plots/taxa_summary_plots/charts/6HmzdUd1YEZfmI5Qo3sj20sz7kR6uJ_legend.pdf' target='_blank'>6HmzdUd1YEZfmI5Qo3sj20sz7kR6uJ_legend.pdf</a><br>\n",
        "&nbsp;&nbsp;<a href='files/ucrss_fast/taxa_plots/taxa_summary_plots/charts/6Q0yz9nJ39xXZYsDp71taCFG0HXUSG.png' target='_blank'>6Q0yz9nJ39xXZYsDp71taCFG0HXUSG.png</a><br>\n",
        "&nbsp;&nbsp;<a href='files/ucrss_fast/taxa_plots/taxa_summary_plots/charts/6Q0yz9nJ39xXZYsDp71taCFG0HXUSG_legend.pdf' target='_blank'>6Q0yz9nJ39xXZYsDp71taCFG0HXUSG_legend.pdf</a><br>\n",
        "&nbsp;&nbsp;<a href='files/ucrss_fast/taxa_plots/taxa_summary_plots/charts/bSJ9FQOIJA9DPbqyef51Ag88lzkhbj.pdf' target='_blank'>bSJ9FQOIJA9DPbqyef51Ag88lzkhbj.pdf</a><br>\n",
        "&nbsp;&nbsp;<a href='files/ucrss_fast/taxa_plots/taxa_summary_plots/charts/FUxzA2UNpGMx28s7tRm0kZt2CsInp5.pdf' target='_blank'>FUxzA2UNpGMx28s7tRm0kZt2CsInp5.pdf</a><br>\n",
        "&nbsp;&nbsp;<a href='files/ucrss_fast/taxa_plots/taxa_summary_plots/charts/g1qpRsGqZZSe3o6RIe0wYiYbxxWZbd.pdf' target='_blank'>g1qpRsGqZZSe3o6RIe0wYiYbxxWZbd.pdf</a><br>\n",
        "&nbsp;&nbsp;<a href='files/ucrss_fast/taxa_plots/taxa_summary_plots/charts/GkzD1sb2z4jEL8XEcIaQOIZ8RZTDs4.pdf' target='_blank'>GkzD1sb2z4jEL8XEcIaQOIZ8RZTDs4.pdf</a><br>\n",
        "&nbsp;&nbsp;<a href='files/ucrss_fast/taxa_plots/taxa_summary_plots/charts/h6EJ0Xza6lIJ5lupwYiWQuB7AUZAZZ.png' target='_blank'>h6EJ0Xza6lIJ5lupwYiWQuB7AUZAZZ.png</a><br>\n",
        "&nbsp;&nbsp;<a href='files/ucrss_fast/taxa_plots/taxa_summary_plots/charts/h6EJ0Xza6lIJ5lupwYiWQuB7AUZAZZ_legend.pdf' target='_blank'>h6EJ0Xza6lIJ5lupwYiWQuB7AUZAZZ_legend.pdf</a><br>\n",
        "&nbsp;&nbsp;<a href='files/ucrss_fast/taxa_plots/taxa_summary_plots/charts/mIG8J50yRKicp5wi4aX30WUpCz0OqP.pdf' target='_blank'>mIG8J50yRKicp5wi4aX30WUpCz0OqP.pdf</a><br>\n",
        "&nbsp;&nbsp;<a href='files/ucrss_fast/taxa_plots/taxa_summary_plots/charts/NZUjohndYK6tlx6R0wZW0HEFQzSTKj.png' target='_blank'>NZUjohndYK6tlx6R0wZW0HEFQzSTKj.png</a><br>\n",
        "&nbsp;&nbsp;<a href='files/ucrss_fast/taxa_plots/taxa_summary_plots/charts/NZUjohndYK6tlx6R0wZW0HEFQzSTKj_legend.pdf' target='_blank'>NZUjohndYK6tlx6R0wZW0HEFQzSTKj_legend.pdf</a><br>\n",
        "&nbsp;&nbsp;<a href='files/ucrss_fast/taxa_plots/taxa_summary_plots/charts/PQkRje8GqI9Bi1qszfDDsBP9Lnr614.pdf' target='_blank'>PQkRje8GqI9Bi1qszfDDsBP9Lnr614.pdf</a><br>\n",
        "&nbsp;&nbsp;<a href='files/ucrss_fast/taxa_plots/taxa_summary_plots/charts/pZzHCB3KDDIjrHSC6azT0zOH34a9jh.pdf' target='_blank'>pZzHCB3KDDIjrHSC6azT0zOH34a9jh.pdf</a><br>\n",
        "&nbsp;&nbsp;<a href='files/ucrss_fast/taxa_plots/taxa_summary_plots/charts/Q0buWay0dT00UiQCyKbJhuO40KPuDR.pdf' target='_blank'>Q0buWay0dT00UiQCyKbJhuO40KPuDR.pdf</a><br>\n",
        "&nbsp;&nbsp;<a href='files/ucrss_fast/taxa_plots/taxa_summary_plots/charts/Q0rpjYtGD65jERzt9ohHXdf0Im5y3B.png' target='_blank'>Q0rpjYtGD65jERzt9ohHXdf0Im5y3B.png</a><br>\n",
        "&nbsp;&nbsp;<a href='files/ucrss_fast/taxa_plots/taxa_summary_plots/charts/Q0rpjYtGD65jERzt9ohHXdf0Im5y3B_legend.pdf' target='_blank'>Q0rpjYtGD65jERzt9ohHXdf0Im5y3B_legend.pdf</a><br>\n",
        "&nbsp;&nbsp;<a href='files/ucrss_fast/taxa_plots/taxa_summary_plots/charts/uYWnkEPDhJtzhkrNKqxcsc03odGFet.png' target='_blank'>uYWnkEPDhJtzhkrNKqxcsc03odGFet.png</a><br>\n",
        "&nbsp;&nbsp;<a href='files/ucrss_fast/taxa_plots/taxa_summary_plots/charts/uYWnkEPDhJtzhkrNKqxcsc03odGFet_legend.pdf' target='_blank'>uYWnkEPDhJtzhkrNKqxcsc03odGFet_legend.pdf</a><br>\n",
        "&nbsp;&nbsp;<a href='files/ucrss_fast/taxa_plots/taxa_summary_plots/charts/yQzgZOSkRCuItmTzcJmZlWGZ7uxs4t.png' target='_blank'>yQzgZOSkRCuItmTzcJmZlWGZ7uxs4t.png</a><br>\n",
        "&nbsp;&nbsp;<a href='files/ucrss_fast/taxa_plots/taxa_summary_plots/charts/yQzgZOSkRCuItmTzcJmZlWGZ7uxs4t_legend.pdf' target='_blank'>yQzgZOSkRCuItmTzcJmZlWGZ7uxs4t_legend.pdf</a><br>\n",
        "&nbsp;&nbsp;<a href='files/ucrss_fast/taxa_plots/taxa_summary_plots/charts/zcSd3fuFpGymerFWrEJ4Twz8N8kfga.png' target='_blank'>zcSd3fuFpGymerFWrEJ4Twz8N8kfga.png</a><br>\n",
        "&nbsp;&nbsp;<a href='files/ucrss_fast/taxa_plots/taxa_summary_plots/charts/zcSd3fuFpGymerFWrEJ4Twz8N8kfga_legend.pdf' target='_blank'>zcSd3fuFpGymerFWrEJ4Twz8N8kfga_legend.pdf</a><br>\n",
        "&nbsp;&nbsp;<a href='files/ucrss_fast/taxa_plots/taxa_summary_plots/charts/ZGEZZJzBGi0BTgBpagPenbAg6FNXg6.png' target='_blank'>ZGEZZJzBGi0BTgBpagPenbAg6FNXg6.png</a><br>\n",
        "&nbsp;&nbsp;<a href='files/ucrss_fast/taxa_plots/taxa_summary_plots/charts/ZGEZZJzBGi0BTgBpagPenbAg6FNXg6_legend.pdf' target='_blank'>ZGEZZJzBGi0BTgBpagPenbAg6FNXg6_legend.pdf</a><br>\n",
        "ucrss_fast/taxa_plots/taxa_summary_plots/css/<br>\n",
        "&nbsp;&nbsp;<a href='files/ucrss_fast/taxa_plots/taxa_summary_plots/css/qiime_style.css' target='_blank'>qiime_style.css</a><br>\n",
        "ucrss_fast/taxa_plots/taxa_summary_plots/js/<br>\n",
        "&nbsp;&nbsp;<a href='files/ucrss_fast/taxa_plots/taxa_summary_plots/js/overlib.js' target='_blank'>overlib.js</a><br>\n",
        "ucrss_fast/taxa_plots/taxa_summary_plots/raw_data/<br>\n",
        "&nbsp;&nbsp;<a href='files/ucrss_fast/taxa_plots/taxa_summary_plots/raw_data/otu_table_mc2_w_tax_L2.txt' target='_blank'>otu_table_mc2_w_tax_L2.txt</a><br>\n",
        "&nbsp;&nbsp;<a href='files/ucrss_fast/taxa_plots/taxa_summary_plots/raw_data/otu_table_mc2_w_tax_L3.txt' target='_blank'>otu_table_mc2_w_tax_L3.txt</a><br>\n",
        "&nbsp;&nbsp;<a href='files/ucrss_fast/taxa_plots/taxa_summary_plots/raw_data/otu_table_mc2_w_tax_L4.txt' target='_blank'>otu_table_mc2_w_tax_L4.txt</a><br>\n",
        "&nbsp;&nbsp;<a href='files/ucrss_fast/taxa_plots/taxa_summary_plots/raw_data/otu_table_mc2_w_tax_L5.txt' target='_blank'>otu_table_mc2_w_tax_L5.txt</a><br>\n",
        "&nbsp;&nbsp;<a href='files/ucrss_fast/taxa_plots/taxa_summary_plots/raw_data/otu_table_mc2_w_tax_L6.txt' target='_blank'>otu_table_mc2_w_tax_L6.txt</a><br>"
       ],
       "output_type": "pyout",
       "prompt_number": 12,
       "text": [
        "ucrss_fast/taxa_plots/\n",
        "  log_20121217090129.txt\n",
        "  otu_table_mc2_w_tax_L2.txt\n",
        "  otu_table_mc2_w_tax_L3.txt\n",
        "  otu_table_mc2_w_tax_L4.txt\n",
        "  otu_table_mc2_w_tax_L5.txt\n",
        "  otu_table_mc2_w_tax_L6.txt\n",
        "ucrss_fast/taxa_plots/taxa_summary_plots/\n",
        "  area_charts.html\n",
        "  bar_charts.html\n",
        "ucrss_fast/taxa_plots/taxa_summary_plots/charts/\n",
        "  3JeSflJ0J1nk780uRDfEE10qn4i2KW.pdf\n",
        "  4n9Yz533g02ZcJeCZk7X3zikndXXxZ.png\n",
        "  4n9Yz533g02ZcJeCZk7X3zikndXXxZ_legend.pdf\n",
        "  4qagJFLLs4O5le3aZqywejSzEyZHa0.pdf\n",
        "  6HmzdUd1YEZfmI5Qo3sj20sz7kR6uJ.png\n",
        "  6HmzdUd1YEZfmI5Qo3sj20sz7kR6uJ_legend.pdf\n",
        "  6Q0yz9nJ39xXZYsDp71taCFG0HXUSG.png\n",
        "  6Q0yz9nJ39xXZYsDp71taCFG0HXUSG_legend.pdf\n",
        "  bSJ9FQOIJA9DPbqyef51Ag88lzkhbj.pdf\n",
        "  FUxzA2UNpGMx28s7tRm0kZt2CsInp5.pdf\n",
        "  g1qpRsGqZZSe3o6RIe0wYiYbxxWZbd.pdf\n",
        "  GkzD1sb2z4jEL8XEcIaQOIZ8RZTDs4.pdf\n",
        "  h6EJ0Xza6lIJ5lupwYiWQuB7AUZAZZ.png\n",
        "  h6EJ0Xza6lIJ5lupwYiWQuB7AUZAZZ_legend.pdf\n",
        "  mIG8J50yRKicp5wi4aX30WUpCz0OqP.pdf\n",
        "  NZUjohndYK6tlx6R0wZW0HEFQzSTKj.png\n",
        "  NZUjohndYK6tlx6R0wZW0HEFQzSTKj_legend.pdf\n",
        "  PQkRje8GqI9Bi1qszfDDsBP9Lnr614.pdf\n",
        "  pZzHCB3KDDIjrHSC6azT0zOH34a9jh.pdf\n",
        "  Q0buWay0dT00UiQCyKbJhuO40KPuDR.pdf\n",
        "  Q0rpjYtGD65jERzt9ohHXdf0Im5y3B.png\n",
        "  Q0rpjYtGD65jERzt9ohHXdf0Im5y3B_legend.pdf\n",
        "  uYWnkEPDhJtzhkrNKqxcsc03odGFet.png\n",
        "  uYWnkEPDhJtzhkrNKqxcsc03odGFet_legend.pdf\n",
        "  yQzgZOSkRCuItmTzcJmZlWGZ7uxs4t.png\n",
        "  yQzgZOSkRCuItmTzcJmZlWGZ7uxs4t_legend.pdf\n",
        "  zcSd3fuFpGymerFWrEJ4Twz8N8kfga.png\n",
        "  zcSd3fuFpGymerFWrEJ4Twz8N8kfga_legend.pdf\n",
        "  ZGEZZJzBGi0BTgBpagPenbAg6FNXg6.png\n",
        "  ZGEZZJzBGi0BTgBpagPenbAg6FNXg6_legend.pdf\n",
        "ucrss_fast/taxa_plots/taxa_summary_plots/css/\n",
        "  qiime_style.css\n",
        "ucrss_fast/taxa_plots/taxa_summary_plots/js/\n",
        "  overlib.js\n",
        "ucrss_fast/taxa_plots/taxa_summary_plots/raw_data/\n",
        "  otu_table_mc2_w_tax_L2.txt\n",
        "  otu_table_mc2_w_tax_L3.txt\n",
        "  otu_table_mc2_w_tax_L4.txt\n",
        "  otu_table_mc2_w_tax_L5.txt\n",
        "  otu_table_mc2_w_tax_L6.txt"
       ]
      }
     ],
     "prompt_number": 12
    },
    {
     "cell_type": "markdown",
     "metadata": {},
     "source": [
      "Here the most interesting file is the ``bar_charts.html``. Click that to open it in a new browser window/tab."
     ]
    },
    {
     "cell_type": "code",
     "collapsed": false,
     "input": [],
     "language": "python",
     "metadata": {},
     "outputs": [],
     "prompt_number": 12
    }
   ],
   "metadata": {}
  }
 ]
}